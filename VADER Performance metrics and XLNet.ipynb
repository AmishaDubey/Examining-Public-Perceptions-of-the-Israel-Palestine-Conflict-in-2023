{
 "cells": [
  {
   "cell_type": "code",
   "execution_count": 1,
   "metadata": {
    "id": "uj6balR4Gi6Q"
   },
   "outputs": [],
   "source": [
    "import pandas as pd\n",
    "from sklearn.feature_extraction.text import TfidfVectorizer\n",
    "from sklearn.cluster import KMeans\n",
    "from nltk.corpus import stopwords\n",
    "from nltk.tokenize import word_tokenize\n",
    "from sklearn.decomposition import PCA\n",
    "import matplotlib.pyplot as plt\n",
    "import re\n",
    "import numpy as np\n",
    "from bs4 import BeautifulSoup\n",
    "from nltk.stem import WordNetLemmatizer\n",
    "from nltk.sentiment.vader import SentimentIntensityAnalyzer\n",
    "import seaborn as sns\n",
    "import matplotlib.pyplot as plt\n",
    "from wordcloud import WordCloud, STOPWORDS\n",
    "from sklearn.feature_extraction.text import TfidfVectorizer\n",
    "from sklearn.decomposition import LatentDirichletAllocation"
   ]
  },
  {
   "cell_type": "code",
   "execution_count": 2,
   "metadata": {
    "id": "jh1RdwTcID-H"
   },
   "outputs": [],
   "source": [
    "# Read data from CSV file\n",
    "df = pd.read_csv(\"reddit_opinion_PSE_ISR.csv\")"
   ]
  },
  {
   "cell_type": "code",
   "execution_count": 3,
   "metadata": {
    "id": "bQhAF3T5IQQj"
   },
   "outputs": [],
   "source": [
    "df = pd.read_csv(\"reddit_opinion_PSE_ISR.csv\", skiprows=[220009])\n"
   ]
  },
  {
   "cell_type": "code",
   "execution_count": 4,
   "metadata": {
    "colab": {
     "base_uri": "https://localhost:8080/",
     "height": 637
    },
    "id": "cFGJe5ueI-kY",
    "outputId": "e0564378-fb4f-4f13-88d6-f8289baa210e",
    "scrolled": false
   },
   "outputs": [
    {
     "data": {
      "text/html": [
       "<div>\n",
       "<style scoped>\n",
       "    .dataframe tbody tr th:only-of-type {\n",
       "        vertical-align: middle;\n",
       "    }\n",
       "\n",
       "    .dataframe tbody tr th {\n",
       "        vertical-align: top;\n",
       "    }\n",
       "\n",
       "    .dataframe thead th {\n",
       "        text-align: right;\n",
       "    }\n",
       "</style>\n",
       "<table border=\"1\" class=\"dataframe\">\n",
       "  <thead>\n",
       "    <tr style=\"text-align: right;\">\n",
       "      <th></th>\n",
       "      <th>comment_id</th>\n",
       "      <th>score</th>\n",
       "      <th>self_text</th>\n",
       "      <th>subreddit</th>\n",
       "      <th>created_time</th>\n",
       "      <th>post_id</th>\n",
       "      <th>author_name</th>\n",
       "      <th>controversiality</th>\n",
       "      <th>ups</th>\n",
       "      <th>downs</th>\n",
       "      <th>...</th>\n",
       "      <th>user_link_karma</th>\n",
       "      <th>user_comment_karma</th>\n",
       "      <th>user_total_karma</th>\n",
       "      <th>post_score</th>\n",
       "      <th>post_self_text</th>\n",
       "      <th>post_title</th>\n",
       "      <th>post_upvote_ratio</th>\n",
       "      <th>post_thumbs_ups</th>\n",
       "      <th>post_total_awards_received</th>\n",
       "      <th>post_created_time</th>\n",
       "    </tr>\n",
       "  </thead>\n",
       "  <tbody>\n",
       "    <tr>\n",
       "      <th>27213</th>\n",
       "      <td>ka2se2q</td>\n",
       "      <td>-5</td>\n",
       "      <td>Yet millions of jews moved to Palestine before...</td>\n",
       "      <td>IsraelPalestine</td>\n",
       "      <td>2023-11-20 22:26:19</td>\n",
       "      <td>17zqjov</td>\n",
       "      <td>anonymask_nfts</td>\n",
       "      <td>0</td>\n",
       "      <td>-5</td>\n",
       "      <td>0</td>\n",
       "      <td>...</td>\n",
       "      <td>1040.0</td>\n",
       "      <td>-57.0</td>\n",
       "      <td>1189.0</td>\n",
       "      <td>11</td>\n",
       "      <td>I know that this will not happen but just imag...</td>\n",
       "      <td>What would happen next if all Israelis would l...</td>\n",
       "      <td>0.62</td>\n",
       "      <td>11</td>\n",
       "      <td>0</td>\n",
       "      <td>2023-11-20 15:06:24</td>\n",
       "    </tr>\n",
       "    <tr>\n",
       "      <th>70821</th>\n",
       "      <td>k9nadp0</td>\n",
       "      <td>13</td>\n",
       "      <td>No terrorists operate out of the West Bank? Wo...</td>\n",
       "      <td>IsraelPalestine</td>\n",
       "      <td>2023-11-17 15:34:28</td>\n",
       "      <td>17xhcam</td>\n",
       "      <td>Berly653</td>\n",
       "      <td>0</td>\n",
       "      <td>13</td>\n",
       "      <td>0</td>\n",
       "      <td>...</td>\n",
       "      <td>23156.0</td>\n",
       "      <td>91192.0</td>\n",
       "      <td>115926.0</td>\n",
       "      <td>120</td>\n",
       "      <td>\"Don’t fall for Hamas propaganda. As a Lebanes...</td>\n",
       "      <td>Opinion of a Lebanese</td>\n",
       "      <td>0.85</td>\n",
       "      <td>120</td>\n",
       "      <td>0</td>\n",
       "      <td>2023-11-17 15:18:20</td>\n",
       "    </tr>\n",
       "    <tr>\n",
       "      <th>84357</th>\n",
       "      <td>k9hxnjn</td>\n",
       "      <td>1</td>\n",
       "      <td>I did call her a terrorist as well.\\n\\nShe pro...</td>\n",
       "      <td>IsraelPalestine</td>\n",
       "      <td>2023-11-16 13:27:04</td>\n",
       "      <td>17wk8dv</td>\n",
       "      <td>West-Incident-9040</td>\n",
       "      <td>0</td>\n",
       "      <td>1</td>\n",
       "      <td>0</td>\n",
       "      <td>...</td>\n",
       "      <td>460.0</td>\n",
       "      <td>1918.0</td>\n",
       "      <td>2438.0</td>\n",
       "      <td>0</td>\n",
       "      <td>I see many commenting and posting videos justi...</td>\n",
       "      <td>Do most zionists believe that getting rid of p...</td>\n",
       "      <td>0.32</td>\n",
       "      <td>0</td>\n",
       "      <td>0</td>\n",
       "      <td>2023-11-16 11:03:18</td>\n",
       "    </tr>\n",
       "    <tr>\n",
       "      <th>212420</th>\n",
       "      <td>k6yvkyz</td>\n",
       "      <td>54</td>\n",
       "      <td>What the f lol this is one of the biggest ones...</td>\n",
       "      <td>CombatFootage</td>\n",
       "      <td>2023-10-29 16:27:38</td>\n",
       "      <td>17j5zap</td>\n",
       "      <td>FunnyTerrorist</td>\n",
       "      <td>0</td>\n",
       "      <td>54</td>\n",
       "      <td>0</td>\n",
       "      <td>...</td>\n",
       "      <td>14229.0</td>\n",
       "      <td>22879.0</td>\n",
       "      <td>37252.0</td>\n",
       "      <td>4987</td>\n",
       "      <td>NaN</td>\n",
       "      <td>The bombing of the vicinity of Al-Azhar Univer...</td>\n",
       "      <td>0.95</td>\n",
       "      <td>4987</td>\n",
       "      <td>0</td>\n",
       "      <td>2023-10-29 15:59:28</td>\n",
       "    </tr>\n",
       "    <tr>\n",
       "      <th>158532</th>\n",
       "      <td>k8khnm4</td>\n",
       "      <td>4</td>\n",
       "      <td>If society collapses to that extent, gold won'...</td>\n",
       "      <td>PublicFreakout</td>\n",
       "      <td>2023-11-09 22:55:33</td>\n",
       "      <td>17rkxrn</td>\n",
       "      <td>LunchyPete</td>\n",
       "      <td>0</td>\n",
       "      <td>4</td>\n",
       "      <td>0</td>\n",
       "      <td>...</td>\n",
       "      <td>17098.0</td>\n",
       "      <td>117983.0</td>\n",
       "      <td>136850.0</td>\n",
       "      <td>1600</td>\n",
       "      <td>NaN</td>\n",
       "      <td>Roseanne Barr screaming terroristic threats at...</td>\n",
       "      <td>0.81</td>\n",
       "      <td>1600</td>\n",
       "      <td>0</td>\n",
       "      <td>2023-11-09 19:30:45</td>\n",
       "    </tr>\n",
       "  </tbody>\n",
       "</table>\n",
       "<p>5 rows × 24 columns</p>\n",
       "</div>"
      ],
      "text/plain": [
       "       comment_id  score                                          self_text  \\\n",
       "27213     ka2se2q     -5  Yet millions of jews moved to Palestine before...   \n",
       "70821     k9nadp0     13  No terrorists operate out of the West Bank? Wo...   \n",
       "84357     k9hxnjn      1  I did call her a terrorist as well.\\n\\nShe pro...   \n",
       "212420    k6yvkyz     54  What the f lol this is one of the biggest ones...   \n",
       "158532    k8khnm4      4  If society collapses to that extent, gold won'...   \n",
       "\n",
       "              subreddit         created_time  post_id         author_name  \\\n",
       "27213   IsraelPalestine  2023-11-20 22:26:19  17zqjov      anonymask_nfts   \n",
       "70821   IsraelPalestine  2023-11-17 15:34:28  17xhcam            Berly653   \n",
       "84357   IsraelPalestine  2023-11-16 13:27:04  17wk8dv  West-Incident-9040   \n",
       "212420    CombatFootage  2023-10-29 16:27:38  17j5zap      FunnyTerrorist   \n",
       "158532   PublicFreakout  2023-11-09 22:55:33  17rkxrn          LunchyPete   \n",
       "\n",
       "        controversiality  ups  downs  ... user_link_karma user_comment_karma  \\\n",
       "27213                  0   -5      0  ...          1040.0              -57.0   \n",
       "70821                  0   13      0  ...         23156.0            91192.0   \n",
       "84357                  0    1      0  ...           460.0             1918.0   \n",
       "212420                 0   54      0  ...         14229.0            22879.0   \n",
       "158532                 0    4      0  ...         17098.0           117983.0   \n",
       "\n",
       "        user_total_karma  post_score  \\\n",
       "27213             1189.0          11   \n",
       "70821           115926.0         120   \n",
       "84357             2438.0           0   \n",
       "212420           37252.0        4987   \n",
       "158532          136850.0        1600   \n",
       "\n",
       "                                           post_self_text  \\\n",
       "27213   I know that this will not happen but just imag...   \n",
       "70821   \"Don’t fall for Hamas propaganda. As a Lebanes...   \n",
       "84357   I see many commenting and posting videos justi...   \n",
       "212420                                                NaN   \n",
       "158532                                                NaN   \n",
       "\n",
       "                                               post_title  post_upvote_ratio  \\\n",
       "27213   What would happen next if all Israelis would l...               0.62   \n",
       "70821                               Opinion of a Lebanese               0.85   \n",
       "84357   Do most zionists believe that getting rid of p...               0.32   \n",
       "212420  The bombing of the vicinity of Al-Azhar Univer...               0.95   \n",
       "158532  Roseanne Barr screaming terroristic threats at...               0.81   \n",
       "\n",
       "        post_thumbs_ups post_total_awards_received    post_created_time  \n",
       "27213                11                          0  2023-11-20 15:06:24  \n",
       "70821               120                          0  2023-11-17 15:18:20  \n",
       "84357                 0                          0  2023-11-16 11:03:18  \n",
       "212420             4987                          0  2023-10-29 15:59:28  \n",
       "158532             1600                          0  2023-11-09 19:30:45  \n",
       "\n",
       "[5 rows x 24 columns]"
      ]
     },
     "execution_count": 4,
     "metadata": {},
     "output_type": "execute_result"
    }
   ],
   "source": [
    "df.sample(5)"
   ]
  },
  {
   "cell_type": "code",
   "execution_count": 79,
   "metadata": {},
   "outputs": [
    {
     "data": {
      "text/plain": [
       "48000"
      ]
     },
     "execution_count": 79,
     "metadata": {},
     "output_type": "execute_result"
    }
   ],
   "source": [
    "df.size"
   ]
  },
  {
   "cell_type": "code",
   "execution_count": 5,
   "metadata": {
    "colab": {
     "base_uri": "https://localhost:8080/"
    },
    "id": "CM9vzEPjJJv6",
    "outputId": "6546597a-681e-41c1-f63f-71612ef04535"
   },
   "outputs": [
    {
     "name": "stdout",
     "output_type": "stream",
     "text": [
      "<class 'pandas.core.frame.DataFrame'>\n",
      "RangeIndex: 232022 entries, 0 to 232021\n",
      "Data columns (total 24 columns):\n",
      " #   Column                      Non-Null Count   Dtype  \n",
      "---  ------                      --------------   -----  \n",
      " 0   comment_id                  232022 non-null  object \n",
      " 1   score                       232022 non-null  int64  \n",
      " 2   self_text                   232021 non-null  object \n",
      " 3   subreddit                   232022 non-null  object \n",
      " 4   created_time                232022 non-null  object \n",
      " 5   post_id                     232022 non-null  object \n",
      " 6   author_name                 232022 non-null  object \n",
      " 7   controversiality            232022 non-null  int64  \n",
      " 8   ups                         232022 non-null  int64  \n",
      " 9   downs                       232022 non-null  int64  \n",
      " 10  user_is_verified            228209 non-null  object \n",
      " 11  user_account_created_time   228209 non-null  object \n",
      " 12  user_awardee_karma          232018 non-null  float64\n",
      " 13  user_awarder_karma          232018 non-null  float64\n",
      " 14  user_link_karma             232018 non-null  float64\n",
      " 15  user_comment_karma          232018 non-null  float64\n",
      " 16  user_total_karma            232018 non-null  float64\n",
      " 17  post_score                  232022 non-null  int64  \n",
      " 18  post_self_text              107820 non-null  object \n",
      " 19  post_title                  232022 non-null  object \n",
      " 20  post_upvote_ratio           232022 non-null  float64\n",
      " 21  post_thumbs_ups             232022 non-null  int64  \n",
      " 22  post_total_awards_received  232022 non-null  int64  \n",
      " 23  post_created_time           232022 non-null  object \n",
      "dtypes: float64(6), int64(7), object(11)\n",
      "memory usage: 42.5+ MB\n"
     ]
    }
   ],
   "source": [
    "df.info()"
   ]
  },
  {
   "cell_type": "code",
   "execution_count": 6,
   "metadata": {
    "colab": {
     "base_uri": "https://localhost:8080/"
    },
    "id": "uWRf0IBYJNXM",
    "outputId": "ee83432a-b188-4b60-8139-0ade74dfb699"
   },
   "outputs": [
    {
     "name": "stdout",
     "output_type": "stream",
     "text": [
      "Actually my family has been in Israel for 600 years so be quite\n",
      "Does anyone doubt that Iran WILL nuke Israel when their bomb is operational?  After all, it is their greatest aspiration on earth.  The grand prize is seventy-two virgins in blissful ecstasy.  Who could resist?\n",
      "\n",
      "Clearly, the mullahs don't care about existentialism because their future is in the hands of Allah.  WW III sounds like fun to them because it will kill countless infidels.\n",
      "\n",
      "World War III isn't likely to start with a single nuke.  If Israel nukes Iran, the other nuclear powers will have a \"come to Jesus\" meeting where they will have to decide whether Iran is their problem and whether they are willing to go down with them.   I highly suspect that, at the end of the day, none of Iran's friends are willing to follow them to hell.  Russia, China, India, and Pakistan all know that nothing will stop their total destruction should they choose to participate in Iran's insane initiatives.  Each of them will have to decide if WW III is preferable to doing nothing.  Nope, it will be far easier just to complain about it.   \n",
      "\n",
      "Meanwhile, the problem that the nuke was supposed to solve will have likely been remediated.  The recipients of such warfare will definitely reconsider their options after that.  It worked in Japan and will work with Iran as well if you give it a chance.\n",
      "\n",
      "Lots of countries \"misbehave\" and get away with it repeatedly.   Why? Because it's none of other countries' business. Human rights don't weigh into this because the definition isn't universal, and human rights aren't a \"thing\" in some cultures.  The only human rights that the other nuclear powers appreciate is their own continued existence.  \n",
      "\n",
      "The concept of Mutually Assured Destruction still applies, even if an occasional nuke goes off here and there outside one of the larger powers.  Nope, \"friendship\" or any relationship short of a NATO-like Article 5 treaty won't convince China to come to Iran's aid.  Sorry Tehran, but you screwed the pooch.  They aren't about to launch a nuke that would kill their Fentanyl business, Alibaba, and TEMU in one stroke.  You can count on China for that.\n",
      "\n",
      "The real world (IRL) is a tough place.  I'm bracing for downvotes...\n",
      "Cool. Please stop massacring civilians.\n",
      "the only ethnic cleansing that has ever take place in Israel is when Israel removed ALL the Jews from Gaza to give it to the PA. \n",
      "\n",
      "The law of return is not racist.  It does not single out any group for NOT being allowed into Israel.  That would be racist. It does grant an expedited process to a certain group. Everyone else is treated the same. It's like saying Australia is racist because they allow Australians to come into the country without going through the same immigration checks as someone from the US, or Venezuela, or Jordan.  You can grant privileges to one group, without being racist against the rest of the world.\n",
      "\n",
      "If palestine became a country today, and passed a law allowing a quick track immigration process for palestinian descendants, vs a non-Palestinian  from Israel, or the US, or Fiji, or any other place, would that also be racist?\n",
      "\n",
      "you quoted article 13\n",
      "\n",
      "&gt;Article 13 of Human Rights: “Everyone has the right to leave any country, including his own and to return to his country\n",
      "\n",
      "It says country. So i can address it from that perspective. \n",
      "\n",
      "And there was no law of return to Israel before 1948. No country to return to, therefore that law does not apply. \n",
      "\n",
      "The currency with palestine on it was minted by the British. And when you look at it, it is followed by 2 Hebrew letters. (why would an Arabic currency have any Hebrew letters? ). The letters are an Aleph and  Yud - an acronym for The Land of Israel. \n",
      "\n",
      "The region palestine was NOT always muti-racial and multi-ethnic. It was historically primarily Jewish.  Many hundreds of years after Judaism established itself in Israel, Christianity came along, and it was another 600 years after that until Islam came along.  Jews/Israel did ultimately share THEIR land with with Christians and Muslims, but they had not been living together for thousands of years, and certainly not in peace. \n",
      "\n",
      "I am not saying palestinians do not exists. They are people with their own aspirations and goals. I am saying they are not indigenous to Israel. If David Israeli, whose family has been living in Israel for a few hundred years were to move to Canada, and his kids are born in Canada. And then their kids, etc... 2,3...20 generations later, they may be Canadian, but they are NOT indigenous to Canada. BUT, if an indigeneous Canadian, from the First Nations, left Canada for Israel, and their family, and grandkids, etc, spent 20 generations in Israel, they would still be indigenous to Canada. \n",
      "\n",
      "Palestinians have been in Israel for thousands of years? Are you taking the position, that Palestinans are the actual descendants of the ancient Plishtim? The Plishtim, which literally means \"invader\"?  The Plishtim which were  a sea-faring people that came from outside Israel to setup shop in Gaza?   Based on your position, are you also saying Palestinians are NOT Arabs? \n",
      "\n",
      "The state of Israel has a minority of European Jews. Too many were killed in the holocaust to be a significant part of the new Israel. The majority of the Jews were already living in Israel, or came from Mid-eastern countries.  To use racist terminlogy -  Israeli Jews are predominantly brown, not white.\n",
      "I mean yeah it was fairly obvious Israel is carrying out human rights violations. Whatever they accuse Hamas of they have already carried out tenfold. \n",
      "\n",
      "Why is a report on Israeli injustices from Israeli literary sources antisemitism I don't understand.\n",
      "In that scenario you just made up, sure. In reality, we would have to look at each incident and examine the balancing factors to make that determination. \n",
      "\n",
      "The fact that there are people even having these discussions before a use of force is telling in and of itself.\n",
      "You don’t have to join the IDF to be killed by Hamas. Didn’t we learn that on 10/7? \n",
      "\n",
      "If you want to argue that targeting military infrastructure is not defense, you’ll have to reopen the Nuremberg trials.\n",
      "That's the most edited garbage I've ever seen.\n",
      "Ok but Zionism is a very specific concept, the principles of zionism have been laid out in a document that has been signed off by the Zionism congress, and has had formal revisions made to it a few times since.\n",
      "\n",
      "When you misuse the term Zionism, you create a term that gives carte blanche to people to hate on Jewish self determination under the guise of \"it's only the government that i hate\". Using words incorrectly has consequences.\n",
      "&gt;There are Jewish and Christian Palestinians too.\n",
      "\n",
      "What do you think happens to jews in Gaza, we saw it on Oct 7 and we've seen it before that as well.\n",
      "\n",
      "You have an idealised v8ew where it is the baddies and the goodies. Israel has done some bad stuff but the Palestinians sure don't have blood free hands\n"
     ]
    }
   ],
   "source": [
    "for i in range(10):\n",
    "    print(df.self_text[i])"
   ]
  },
  {
   "cell_type": "code",
   "execution_count": 7,
   "metadata": {
    "colab": {
     "base_uri": "https://localhost:8080/"
    },
    "id": "PTXjujxAJRFW",
    "outputId": "df05dc34-99e8-4e7f-b1f4-e141f53ee4e4"
   },
   "outputs": [
    {
     "name": "stdout",
     "output_type": "stream",
     "text": [
      "File index.adv already exists. No need to unzip the archive.\n"
     ]
    }
   ],
   "source": [
    "import zipfile\n",
    "import os\n",
    "\n",
    "#zip_file_path = \"C:\\Users\\radha\\Downloads\\wordnet.zip\"\n",
    "zip_file_path = r\"/Users/Amisha/Downloads/wordnet.zip\"\n",
    "\n",
    "destination_directory = '/Users/Amisha/nltk_data'\n",
    "\n",
    "# Check if the specific file exists in the destination directory\n",
    "file_to_check = 'index.adv'\n",
    "file_path_to_check = os.path.join(destination_directory, 'wordnet', file_to_check)\n",
    "\n",
    "if not os.path.exists(file_path_to_check):\n",
    "    # Unzip the entire archive if the specific file doesn't exist\n",
    "    with zipfile.ZipFile(zip_file_path, 'r') as zip_ref:\n",
    "        zip_ref.extractall(destination_directory)\n",
    "    print(f\"Successfully unzipped {zip_file_path} to {destination_directory}\")\n",
    "else:\n",
    "    print(f\"File {file_to_check} already exists. No need to unzip the archive.\")"
   ]
  },
  {
   "cell_type": "code",
   "execution_count": 8,
   "metadata": {
    "colab": {
     "base_uri": "https://localhost:8080/"
    },
    "id": "KpJgiP1mMoxw",
    "outputId": "f6c91529-5514-40ea-e788-81ce8aec7c8c"
   },
   "outputs": [
    {
     "name": "stderr",
     "output_type": "stream",
     "text": [
      "[nltk_data] Downloading package stopwords to\n",
      "[nltk_data]     /Users/Amisha/nltk_data...\n",
      "[nltk_data]   Package stopwords is already up-to-date!\n"
     ]
    },
    {
     "data": {
      "text/plain": [
       "True"
      ]
     },
     "execution_count": 8,
     "metadata": {},
     "output_type": "execute_result"
    }
   ],
   "source": [
    "import nltk\n",
    "nltk.download('stopwords')\n"
   ]
  },
  {
   "cell_type": "code",
   "execution_count": 9,
   "metadata": {
    "colab": {
     "base_uri": "https://localhost:8080/"
    },
    "id": "6fKTxsPXPH8x",
    "outputId": "74ecb26f-8615-4c0c-af10-09791e6660bf"
   },
   "outputs": [
    {
     "name": "stderr",
     "output_type": "stream",
     "text": [
      "[nltk_data] Downloading package punkt to /Users/Amisha/nltk_data...\n",
      "[nltk_data]   Package punkt is already up-to-date!\n"
     ]
    },
    {
     "data": {
      "text/plain": [
       "True"
      ]
     },
     "execution_count": 9,
     "metadata": {},
     "output_type": "execute_result"
    }
   ],
   "source": [
    "import nltk\n",
    "nltk.download('punkt')"
   ]
  },
  {
   "cell_type": "code",
   "execution_count": 10,
   "metadata": {},
   "outputs": [
    {
     "name": "stderr",
     "output_type": "stream",
     "text": [
      "[nltk_data] Downloading package wordnet to /Users/Amisha/nltk_data...\n",
      "[nltk_data]   Package wordnet is already up-to-date!\n"
     ]
    },
    {
     "data": {
      "text/plain": [
       "True"
      ]
     },
     "execution_count": 10,
     "metadata": {},
     "output_type": "execute_result"
    }
   ],
   "source": [
    "import nltk\n",
    "nltk.download('wordnet')"
   ]
  },
  {
   "cell_type": "code",
   "execution_count": 11,
   "metadata": {},
   "outputs": [
    {
     "name": "stderr",
     "output_type": "stream",
     "text": [
      "[nltk_data] Downloading package omw-1.4 to /Users/Amisha/nltk_data...\n",
      "[nltk_data]   Package omw-1.4 is already up-to-date!\n"
     ]
    },
    {
     "data": {
      "text/plain": [
       "True"
      ]
     },
     "execution_count": 11,
     "metadata": {},
     "output_type": "execute_result"
    }
   ],
   "source": [
    "import nltk\n",
    "nltk.download('omw-1.4')"
   ]
  },
  {
   "cell_type": "code",
   "execution_count": 12,
   "metadata": {
    "colab": {
     "base_uri": "https://localhost:8080/"
    },
    "id": "X3fYRgGNMS2Y",
    "outputId": "692f551b-ab9e-4dca-85a4-5c2a18ae3eb4"
   },
   "outputs": [
    {
     "name": "stderr",
     "output_type": "stream",
     "text": [
      "/tmp/ipykernel_21971/369728380.py:18: MarkupResemblesLocatorWarning: The input looks more like a filename than markup. You may want to open this file and pass the filehandle into Beautiful Soup.\n",
      "  soup = BeautifulSoup(text, 'html.parser')\n"
     ]
    }
   ],
   "source": [
    "from nltk.corpus import stopwords\n",
    "from nltk.tokenize import word_tokenize\n",
    "from nltk.stem import WordNetLemmatizer\n",
    "from bs4 import BeautifulSoup\n",
    "import re\n",
    "\n",
    "# Initialize the lemmatizer and stopwords\n",
    "lemmatizer = WordNetLemmatizer()\n",
    "stop_words = set(stopwords.words('english'))\n",
    "\n",
    "def clean_text(text):\n",
    "    # Check if the input is a valid string\n",
    "    if isinstance(text, str):\n",
    "        # Remove URLs\n",
    "        text = re.sub(r'http\\S+', '', text)\n",
    "\n",
    "        # Remove HTML tags\n",
    "        soup = BeautifulSoup(text, 'html.parser')\n",
    "        text = soup.get_text()\n",
    "\n",
    "        # Remove special characters and lowercase the text\n",
    "        text = re.sub(r'[^a-zA-Z0-9\\s]', '', text).lower()\n",
    "\n",
    "        # Tokenization\n",
    "        tokens = word_tokenize(text)\n",
    "\n",
    "        # Lemmatization and removing stopwords\n",
    "        tokens = [lemmatizer.lemmatize(token) for token in tokens if token not in stop_words]\n",
    "\n",
    "        # Join the tokens back into a sentence\n",
    "        cleaned_text = ' '.join(tokens)\n",
    "\n",
    "        return cleaned_text\n",
    "    else:\n",
    "        # If the input is not a string, return an empty string or handle it according to your needs\n",
    "        return ''\n",
    "\n",
    "# Example usage on 'self_text' column of your DataFrame\n",
    "df['clean_text'] = df['self_text'].apply(clean_text)\n"
   ]
  },
  {
   "cell_type": "code",
   "execution_count": 13,
   "metadata": {
    "colab": {
     "base_uri": "https://localhost:8080/"
    },
    "id": "EuzX1ZIYQl6r",
    "outputId": "5e824e69-598f-4048-dccb-dbee92d50390"
   },
   "outputs": [
    {
     "name": "stdout",
     "output_type": "stream",
     "text": [
      "actually family israel 600 year quite\n",
      "anyone doubt iran nuke israel bomb operational greatest aspiration earth grand prize seventytwo virgin blissful ecstasy could resist clearly mullah dont care existentialism future hand allah ww iii sound like fun kill countless infidel world war iii isnt likely start single nuke israel nuke iran nuclear power come jesus meeting decide whether iran problem whether willing go highly suspect end day none iran friend willing follow hell russia china india pakistan know nothing stop total destruction choose participate iran insane initiative decide ww iii preferable nothing nope far easier complain meanwhile problem nuke supposed solve likely remediated recipient warfare definitely reconsider option worked japan work iran well give chance lot country misbehave get away repeatedly none country business human right dont weigh definition isnt universal human right arent thing culture human right nuclear power appreciate continued existence concept mutually assured destruction still applies even occasional nuke go outside one larger power nope friendship relationship short natolike article 5 treaty wont convince china come iran aid sorry tehran screwed pooch arent launch nuke would kill fentanyl business alibaba temu one stroke count china real world irl tough place im bracing downvotes\n",
      "cool please stop massacring civilian\n",
      "ethnic cleansing ever take place israel israel removed jew gaza give pa law return racist single group allowed israel would racist grant expedited process certain group everyone else treated like saying australia racist allow australian come country without going immigration check someone u venezuela jordan grant privilege one group without racist rest world palestine became country today passed law allowing quick track immigration process palestinian descendant v nonpalestinian israel u fiji place would also racist quoted article 13 article 13 human right everyone right leave country including return country say country address perspective law return israel 1948 country return therefore law apply currency palestine minted british look followed 2 hebrew letter would arabic currency hebrew letter letter aleph yud acronym land israel region palestine always mutiracial multiethnic historically primarily jewish many hundred year judaism established israel christianity came along another 600 year islam came along jewsisrael ultimately share land christian muslim living together thousand year certainly peace saying palestinian exists people aspiration goal saying indigenous israel david israeli whose family living israel hundred year move canada kid born canada kid etc 2320 generation later may canadian indigenous canada indigeneous canadian first nation left canada israel family grandkids etc spent 20 generation israel would still indigenous canada palestinian israel thousand year taking position palestinans actual descendant ancient plishtim plishtim literally mean invader plishtim seafaring people came outside israel setup shop gaza based position also saying palestinian arab state israel minority european jew many killed holocaust significant part new israel majority jew already living israel came mideastern country use racist terminlogy israeli jew predominantly brown white\n",
      "mean yeah fairly obvious israel carrying human right violation whatever accuse hamas already carried tenfold report israeli injustice israeli literary source antisemitism dont understand\n",
      "scenario made sure reality would look incident examine balancing factor make determination fact people even discussion use force telling\n",
      "dont join idf killed hamas didnt learn 107 want argue targeting military infrastructure defense youll reopen nuremberg trial\n",
      "thats edited garbage ive ever seen\n",
      "ok zionism specific concept principle zionism laid document signed zionism congress formal revision made time since misuse term zionism create term give carte blanche people hate jewish self determination guise government hate using word incorrectly consequence\n",
      "jewish christian palestinian think happens jew gaza saw oct 7 weve seen well idealised v8ew baddie goody israel done bad stuff palestinian sure dont blood free hand\n"
     ]
    }
   ],
   "source": [
    "for i in range(10):\n",
    "    print(df.clean_text[i])\n"
   ]
  },
  {
   "cell_type": "code",
   "execution_count": 14,
   "metadata": {
    "colab": {
     "base_uri": "https://localhost:8080/"
    },
    "id": "L5C66eqrQwo8",
    "outputId": "1c36e1ad-cd84-4b7a-9a06-e8e6f9cf615b"
   },
   "outputs": [
    {
     "name": "stdout",
     "output_type": "stream",
     "text": [
      "<class 'pandas.core.frame.DataFrame'>\n",
      "RangeIndex: 232022 entries, 0 to 232021\n",
      "Data columns (total 25 columns):\n",
      " #   Column                      Non-Null Count   Dtype  \n",
      "---  ------                      --------------   -----  \n",
      " 0   comment_id                  232022 non-null  object \n",
      " 1   score                       232022 non-null  int64  \n",
      " 2   self_text                   232021 non-null  object \n",
      " 3   subreddit                   232022 non-null  object \n",
      " 4   created_time                232022 non-null  object \n",
      " 5   post_id                     232022 non-null  object \n",
      " 6   author_name                 232022 non-null  object \n",
      " 7   controversiality            232022 non-null  int64  \n",
      " 8   ups                         232022 non-null  int64  \n",
      " 9   downs                       232022 non-null  int64  \n",
      " 10  user_is_verified            228209 non-null  object \n",
      " 11  user_account_created_time   228209 non-null  object \n",
      " 12  user_awardee_karma          232018 non-null  float64\n",
      " 13  user_awarder_karma          232018 non-null  float64\n",
      " 14  user_link_karma             232018 non-null  float64\n",
      " 15  user_comment_karma          232018 non-null  float64\n",
      " 16  user_total_karma            232018 non-null  float64\n",
      " 17  post_score                  232022 non-null  int64  \n",
      " 18  post_self_text              107820 non-null  object \n",
      " 19  post_title                  232022 non-null  object \n",
      " 20  post_upvote_ratio           232022 non-null  float64\n",
      " 21  post_thumbs_ups             232022 non-null  int64  \n",
      " 22  post_total_awards_received  232022 non-null  int64  \n",
      " 23  post_created_time           232022 non-null  object \n",
      " 24  clean_text                  232022 non-null  object \n",
      "dtypes: float64(6), int64(7), object(12)\n",
      "memory usage: 44.3+ MB\n"
     ]
    }
   ],
   "source": [
    "df.info()"
   ]
  },
  {
   "cell_type": "markdown",
   "metadata": {
    "id": "1BRZo3_tPs2V"
   },
   "source": [
    "VADER Sentiment Analysis"
   ]
  },
  {
   "cell_type": "code",
   "execution_count": 15,
   "metadata": {
    "id": "CaN9DpoGQDHu"
   },
   "outputs": [],
   "source": [
    "# Initialize the Sentiment Intensity Analyzer\n",
    "analyzer = SentimentIntensityAnalyzer()\n",
    "\n",
    "# Declare variables for scores\n",
    "scores = {\n",
    "    \"Compound\": [],\n",
    "    \"Positive\": [],\n",
    "    \"Negative\": [],\n",
    "    \"Neutral\": []\n",
    "}\n",
    "\n",
    "# Generate sentiment scores for Reddit comments\n",
    "for comment in df['clean_text']:\n",
    "    compound = analyzer.polarity_scores(comment)[\"compound\"]\n",
    "    pos = analyzer.polarity_scores(comment)[\"pos\"]\n",
    "    neu = analyzer.polarity_scores(comment)[\"neu\"]\n",
    "    neg = analyzer.polarity_scores(comment)[\"neg\"]\n",
    "\n",
    "    scores[\"Compound\"].append(compound)\n",
    "    scores[\"Positive\"].append(pos)\n",
    "    scores[\"Negative\"].append(neg)\n",
    "    scores[\"Neutral\"].append(neu)\n",
    "\n",
    "# Create a new DataFrame for sentiment scores\n",
    "sentiments_score = pd.DataFrame(scores)\n",
    "\n",
    "# Join the sentiment scores DataFrame with the original DataFrame\n",
    "df = pd.concat([df, sentiments_score], axis=1)"
   ]
  },
  {
   "cell_type": "code",
   "execution_count": 16,
   "metadata": {
    "colab": {
     "base_uri": "https://localhost:8080/",
     "height": 672
    },
    "id": "DooNmofDQ5Kl",
    "outputId": "2e70f08d-0404-4f60-821e-f69b80d74e2b"
   },
   "outputs": [
    {
     "data": {
      "text/html": [
       "<div>\n",
       "<style scoped>\n",
       "    .dataframe tbody tr th:only-of-type {\n",
       "        vertical-align: middle;\n",
       "    }\n",
       "\n",
       "    .dataframe tbody tr th {\n",
       "        vertical-align: top;\n",
       "    }\n",
       "\n",
       "    .dataframe thead th {\n",
       "        text-align: right;\n",
       "    }\n",
       "</style>\n",
       "<table border=\"1\" class=\"dataframe\">\n",
       "  <thead>\n",
       "    <tr style=\"text-align: right;\">\n",
       "      <th></th>\n",
       "      <th>comment_id</th>\n",
       "      <th>score</th>\n",
       "      <th>self_text</th>\n",
       "      <th>subreddit</th>\n",
       "      <th>created_time</th>\n",
       "      <th>post_id</th>\n",
       "      <th>author_name</th>\n",
       "      <th>controversiality</th>\n",
       "      <th>ups</th>\n",
       "      <th>downs</th>\n",
       "      <th>...</th>\n",
       "      <th>post_title</th>\n",
       "      <th>post_upvote_ratio</th>\n",
       "      <th>post_thumbs_ups</th>\n",
       "      <th>post_total_awards_received</th>\n",
       "      <th>post_created_time</th>\n",
       "      <th>clean_text</th>\n",
       "      <th>Compound</th>\n",
       "      <th>Positive</th>\n",
       "      <th>Negative</th>\n",
       "      <th>Neutral</th>\n",
       "    </tr>\n",
       "  </thead>\n",
       "  <tbody>\n",
       "    <tr>\n",
       "      <th>0</th>\n",
       "      <td>kadcby5</td>\n",
       "      <td>1</td>\n",
       "      <td>Actually my family has been in Israel for 600 ...</td>\n",
       "      <td>IsraelPalestine</td>\n",
       "      <td>2023-11-22 23:43:09</td>\n",
       "      <td>1815xgm</td>\n",
       "      <td>BridgeThink4214</td>\n",
       "      <td>0</td>\n",
       "      <td>1</td>\n",
       "      <td>0</td>\n",
       "      <td>...</td>\n",
       "      <td>Why did my friend say “that’s funny, because P...</td>\n",
       "      <td>0.79</td>\n",
       "      <td>189</td>\n",
       "      <td>0</td>\n",
       "      <td>2023-11-22 10:15:09</td>\n",
       "      <td>actually family israel 600 year quite</td>\n",
       "      <td>0.0000</td>\n",
       "      <td>0.000</td>\n",
       "      <td>0.000</td>\n",
       "      <td>1.000</td>\n",
       "    </tr>\n",
       "    <tr>\n",
       "      <th>1</th>\n",
       "      <td>kadcasl</td>\n",
       "      <td>1</td>\n",
       "      <td>Does anyone doubt that Iran WILL nuke Israel w...</td>\n",
       "      <td>IsraelPalestine</td>\n",
       "      <td>2023-11-22 23:42:55</td>\n",
       "      <td>181kiqb</td>\n",
       "      <td>Device_whisperer</td>\n",
       "      <td>0</td>\n",
       "      <td>1</td>\n",
       "      <td>0</td>\n",
       "      <td>...</td>\n",
       "      <td>Does anyone doubt...</td>\n",
       "      <td>0.50</td>\n",
       "      <td>0</td>\n",
       "      <td>0</td>\n",
       "      <td>2023-11-22 21:39:48</td>\n",
       "      <td>anyone doubt iran nuke israel bomb operational...</td>\n",
       "      <td>0.0219</td>\n",
       "      <td>0.214</td>\n",
       "      <td>0.210</td>\n",
       "      <td>0.576</td>\n",
       "    </tr>\n",
       "    <tr>\n",
       "      <th>2</th>\n",
       "      <td>kadcas8</td>\n",
       "      <td>1</td>\n",
       "      <td>Cool. Please stop massacring civilians.</td>\n",
       "      <td>CombatFootage</td>\n",
       "      <td>2023-11-22 23:42:55</td>\n",
       "      <td>181md5j</td>\n",
       "      <td>bauN7</td>\n",
       "      <td>0</td>\n",
       "      <td>1</td>\n",
       "      <td>0</td>\n",
       "      <td>...</td>\n",
       "      <td>Inside Hamas' tunnels under Al Shifa Hospital ...</td>\n",
       "      <td>0.72</td>\n",
       "      <td>24</td>\n",
       "      <td>0</td>\n",
       "      <td>2023-11-22 22:57:52</td>\n",
       "      <td>cool please stop massacring civilian</td>\n",
       "      <td>0.3400</td>\n",
       "      <td>0.523</td>\n",
       "      <td>0.250</td>\n",
       "      <td>0.227</td>\n",
       "    </tr>\n",
       "    <tr>\n",
       "      <th>3</th>\n",
       "      <td>kadcanw</td>\n",
       "      <td>1</td>\n",
       "      <td>the only ethnic cleansing that has ever take p...</td>\n",
       "      <td>IsraelPalestine</td>\n",
       "      <td>2023-11-22 23:42:54</td>\n",
       "      <td>180tveu</td>\n",
       "      <td>Andromeda_Skye</td>\n",
       "      <td>0</td>\n",
       "      <td>1</td>\n",
       "      <td>0</td>\n",
       "      <td>...</td>\n",
       "      <td>Should Palestinians be angry with the Arab wor...</td>\n",
       "      <td>0.77</td>\n",
       "      <td>94</td>\n",
       "      <td>0</td>\n",
       "      <td>2023-11-21 22:46:06</td>\n",
       "      <td>ethnic cleansing ever take place israel israel...</td>\n",
       "      <td>-0.8957</td>\n",
       "      <td>0.081</td>\n",
       "      <td>0.100</td>\n",
       "      <td>0.819</td>\n",
       "    </tr>\n",
       "    <tr>\n",
       "      <th>4</th>\n",
       "      <td>kadca8g</td>\n",
       "      <td>1</td>\n",
       "      <td>I mean yeah it was fairly obvious Israel is ca...</td>\n",
       "      <td>AskMiddleEast</td>\n",
       "      <td>2023-11-22 23:42:48</td>\n",
       "      <td>181l92n</td>\n",
       "      <td>mkbilli</td>\n",
       "      <td>0</td>\n",
       "      <td>1</td>\n",
       "      <td>0</td>\n",
       "      <td>...</td>\n",
       "      <td>History of Israeli sexual assault against Pale...</td>\n",
       "      <td>1.00</td>\n",
       "      <td>11</td>\n",
       "      <td>0</td>\n",
       "      <td>2023-11-22 22:10:10</td>\n",
       "      <td>mean yeah fairly obvious israel carrying human...</td>\n",
       "      <td>-0.7579</td>\n",
       "      <td>0.071</td>\n",
       "      <td>0.282</td>\n",
       "      <td>0.647</td>\n",
       "    </tr>\n",
       "  </tbody>\n",
       "</table>\n",
       "<p>5 rows × 29 columns</p>\n",
       "</div>"
      ],
      "text/plain": [
       "  comment_id  score                                          self_text  \\\n",
       "0    kadcby5      1  Actually my family has been in Israel for 600 ...   \n",
       "1    kadcasl      1  Does anyone doubt that Iran WILL nuke Israel w...   \n",
       "2    kadcas8      1            Cool. Please stop massacring civilians.   \n",
       "3    kadcanw      1  the only ethnic cleansing that has ever take p...   \n",
       "4    kadca8g      1  I mean yeah it was fairly obvious Israel is ca...   \n",
       "\n",
       "         subreddit         created_time  post_id       author_name  \\\n",
       "0  IsraelPalestine  2023-11-22 23:43:09  1815xgm   BridgeThink4214   \n",
       "1  IsraelPalestine  2023-11-22 23:42:55  181kiqb  Device_whisperer   \n",
       "2    CombatFootage  2023-11-22 23:42:55  181md5j             bauN7   \n",
       "3  IsraelPalestine  2023-11-22 23:42:54  180tveu    Andromeda_Skye   \n",
       "4    AskMiddleEast  2023-11-22 23:42:48  181l92n           mkbilli   \n",
       "\n",
       "   controversiality  ups  downs  ...  \\\n",
       "0                 0    1      0  ...   \n",
       "1                 0    1      0  ...   \n",
       "2                 0    1      0  ...   \n",
       "3                 0    1      0  ...   \n",
       "4                 0    1      0  ...   \n",
       "\n",
       "                                          post_title post_upvote_ratio  \\\n",
       "0  Why did my friend say “that’s funny, because P...              0.79   \n",
       "1                               Does anyone doubt...              0.50   \n",
       "2  Inside Hamas' tunnels under Al Shifa Hospital ...              0.72   \n",
       "3  Should Palestinians be angry with the Arab wor...              0.77   \n",
       "4  History of Israeli sexual assault against Pale...              1.00   \n",
       "\n",
       "   post_thumbs_ups  post_total_awards_received    post_created_time  \\\n",
       "0              189                           0  2023-11-22 10:15:09   \n",
       "1                0                           0  2023-11-22 21:39:48   \n",
       "2               24                           0  2023-11-22 22:57:52   \n",
       "3               94                           0  2023-11-21 22:46:06   \n",
       "4               11                           0  2023-11-22 22:10:10   \n",
       "\n",
       "                                          clean_text  Compound  Positive  \\\n",
       "0              actually family israel 600 year quite    0.0000     0.000   \n",
       "1  anyone doubt iran nuke israel bomb operational...    0.0219     0.214   \n",
       "2               cool please stop massacring civilian    0.3400     0.523   \n",
       "3  ethnic cleansing ever take place israel israel...   -0.8957     0.081   \n",
       "4  mean yeah fairly obvious israel carrying human...   -0.7579     0.071   \n",
       "\n",
       "  Negative Neutral  \n",
       "0    0.000   1.000  \n",
       "1    0.210   0.576  \n",
       "2    0.250   0.227  \n",
       "3    0.100   0.819  \n",
       "4    0.282   0.647  \n",
       "\n",
       "[5 rows x 29 columns]"
      ]
     },
     "execution_count": 16,
     "metadata": {},
     "output_type": "execute_result"
    }
   ],
   "source": [
    "df.head()"
   ]
  },
  {
   "cell_type": "code",
   "execution_count": 17,
   "metadata": {
    "id": "pnc9zjh4RK40"
   },
   "outputs": [],
   "source": [
    "# Define conditions for sentiment categories based on 'Compound' scores\n",
    "# If Compound score is <= -0.5, classify as 'Negative'\n",
    "# If Compound score is > -0.5 and < 0.5, classify as 'Neutral'\n",
    "# If Compound score is >= 0.5, classify as 'Positive'\n",
    "conditions = [\n",
    "    (df['Compound'] <= -0.5),\n",
    "    (df['Compound'] > -0.5) & (df['Compound'] < 0.5),\n",
    "    (df['Compound'] > 0.5)\n",
    "]\n",
    "\n",
    "# Define corresponding values for each condition\n",
    "values = ['Negative', 'Neutral', 'Positive']\n",
    "\n",
    "# Create a new column 'Category' using np.select to assign values based on the conditions\n",
    "df['Category'] = np.select(conditions, values)"
   ]
  },
  {
   "cell_type": "code",
   "execution_count": 18,
   "metadata": {
    "colab": {
     "base_uri": "https://localhost:8080/",
     "height": 654
    },
    "id": "4VU9ZrQMSJy1",
    "outputId": "acb4a97c-8f9a-4e17-fcba-312506b8b34d"
   },
   "outputs": [
    {
     "data": {
      "text/html": [
       "<div>\n",
       "<style scoped>\n",
       "    .dataframe tbody tr th:only-of-type {\n",
       "        vertical-align: middle;\n",
       "    }\n",
       "\n",
       "    .dataframe tbody tr th {\n",
       "        vertical-align: top;\n",
       "    }\n",
       "\n",
       "    .dataframe thead th {\n",
       "        text-align: right;\n",
       "    }\n",
       "</style>\n",
       "<table border=\"1\" class=\"dataframe\">\n",
       "  <thead>\n",
       "    <tr style=\"text-align: right;\">\n",
       "      <th></th>\n",
       "      <th>comment_id</th>\n",
       "      <th>score</th>\n",
       "      <th>self_text</th>\n",
       "      <th>subreddit</th>\n",
       "      <th>created_time</th>\n",
       "      <th>post_id</th>\n",
       "      <th>author_name</th>\n",
       "      <th>controversiality</th>\n",
       "      <th>ups</th>\n",
       "      <th>downs</th>\n",
       "      <th>...</th>\n",
       "      <th>post_upvote_ratio</th>\n",
       "      <th>post_thumbs_ups</th>\n",
       "      <th>post_total_awards_received</th>\n",
       "      <th>post_created_time</th>\n",
       "      <th>clean_text</th>\n",
       "      <th>Compound</th>\n",
       "      <th>Positive</th>\n",
       "      <th>Negative</th>\n",
       "      <th>Neutral</th>\n",
       "      <th>Category</th>\n",
       "    </tr>\n",
       "  </thead>\n",
       "  <tbody>\n",
       "    <tr>\n",
       "      <th>0</th>\n",
       "      <td>kadcby5</td>\n",
       "      <td>1</td>\n",
       "      <td>Actually my family has been in Israel for 600 ...</td>\n",
       "      <td>IsraelPalestine</td>\n",
       "      <td>2023-11-22 23:43:09</td>\n",
       "      <td>1815xgm</td>\n",
       "      <td>BridgeThink4214</td>\n",
       "      <td>0</td>\n",
       "      <td>1</td>\n",
       "      <td>0</td>\n",
       "      <td>...</td>\n",
       "      <td>0.79</td>\n",
       "      <td>189</td>\n",
       "      <td>0</td>\n",
       "      <td>2023-11-22 10:15:09</td>\n",
       "      <td>actually family israel 600 year quite</td>\n",
       "      <td>0.0000</td>\n",
       "      <td>0.000</td>\n",
       "      <td>0.000</td>\n",
       "      <td>1.000</td>\n",
       "      <td>Neutral</td>\n",
       "    </tr>\n",
       "    <tr>\n",
       "      <th>1</th>\n",
       "      <td>kadcasl</td>\n",
       "      <td>1</td>\n",
       "      <td>Does anyone doubt that Iran WILL nuke Israel w...</td>\n",
       "      <td>IsraelPalestine</td>\n",
       "      <td>2023-11-22 23:42:55</td>\n",
       "      <td>181kiqb</td>\n",
       "      <td>Device_whisperer</td>\n",
       "      <td>0</td>\n",
       "      <td>1</td>\n",
       "      <td>0</td>\n",
       "      <td>...</td>\n",
       "      <td>0.50</td>\n",
       "      <td>0</td>\n",
       "      <td>0</td>\n",
       "      <td>2023-11-22 21:39:48</td>\n",
       "      <td>anyone doubt iran nuke israel bomb operational...</td>\n",
       "      <td>0.0219</td>\n",
       "      <td>0.214</td>\n",
       "      <td>0.210</td>\n",
       "      <td>0.576</td>\n",
       "      <td>Neutral</td>\n",
       "    </tr>\n",
       "    <tr>\n",
       "      <th>2</th>\n",
       "      <td>kadcas8</td>\n",
       "      <td>1</td>\n",
       "      <td>Cool. Please stop massacring civilians.</td>\n",
       "      <td>CombatFootage</td>\n",
       "      <td>2023-11-22 23:42:55</td>\n",
       "      <td>181md5j</td>\n",
       "      <td>bauN7</td>\n",
       "      <td>0</td>\n",
       "      <td>1</td>\n",
       "      <td>0</td>\n",
       "      <td>...</td>\n",
       "      <td>0.72</td>\n",
       "      <td>24</td>\n",
       "      <td>0</td>\n",
       "      <td>2023-11-22 22:57:52</td>\n",
       "      <td>cool please stop massacring civilian</td>\n",
       "      <td>0.3400</td>\n",
       "      <td>0.523</td>\n",
       "      <td>0.250</td>\n",
       "      <td>0.227</td>\n",
       "      <td>Neutral</td>\n",
       "    </tr>\n",
       "    <tr>\n",
       "      <th>3</th>\n",
       "      <td>kadcanw</td>\n",
       "      <td>1</td>\n",
       "      <td>the only ethnic cleansing that has ever take p...</td>\n",
       "      <td>IsraelPalestine</td>\n",
       "      <td>2023-11-22 23:42:54</td>\n",
       "      <td>180tveu</td>\n",
       "      <td>Andromeda_Skye</td>\n",
       "      <td>0</td>\n",
       "      <td>1</td>\n",
       "      <td>0</td>\n",
       "      <td>...</td>\n",
       "      <td>0.77</td>\n",
       "      <td>94</td>\n",
       "      <td>0</td>\n",
       "      <td>2023-11-21 22:46:06</td>\n",
       "      <td>ethnic cleansing ever take place israel israel...</td>\n",
       "      <td>-0.8957</td>\n",
       "      <td>0.081</td>\n",
       "      <td>0.100</td>\n",
       "      <td>0.819</td>\n",
       "      <td>Negative</td>\n",
       "    </tr>\n",
       "    <tr>\n",
       "      <th>4</th>\n",
       "      <td>kadca8g</td>\n",
       "      <td>1</td>\n",
       "      <td>I mean yeah it was fairly obvious Israel is ca...</td>\n",
       "      <td>AskMiddleEast</td>\n",
       "      <td>2023-11-22 23:42:48</td>\n",
       "      <td>181l92n</td>\n",
       "      <td>mkbilli</td>\n",
       "      <td>0</td>\n",
       "      <td>1</td>\n",
       "      <td>0</td>\n",
       "      <td>...</td>\n",
       "      <td>1.00</td>\n",
       "      <td>11</td>\n",
       "      <td>0</td>\n",
       "      <td>2023-11-22 22:10:10</td>\n",
       "      <td>mean yeah fairly obvious israel carrying human...</td>\n",
       "      <td>-0.7579</td>\n",
       "      <td>0.071</td>\n",
       "      <td>0.282</td>\n",
       "      <td>0.647</td>\n",
       "      <td>Negative</td>\n",
       "    </tr>\n",
       "  </tbody>\n",
       "</table>\n",
       "<p>5 rows × 30 columns</p>\n",
       "</div>"
      ],
      "text/plain": [
       "  comment_id  score                                          self_text  \\\n",
       "0    kadcby5      1  Actually my family has been in Israel for 600 ...   \n",
       "1    kadcasl      1  Does anyone doubt that Iran WILL nuke Israel w...   \n",
       "2    kadcas8      1            Cool. Please stop massacring civilians.   \n",
       "3    kadcanw      1  the only ethnic cleansing that has ever take p...   \n",
       "4    kadca8g      1  I mean yeah it was fairly obvious Israel is ca...   \n",
       "\n",
       "         subreddit         created_time  post_id       author_name  \\\n",
       "0  IsraelPalestine  2023-11-22 23:43:09  1815xgm   BridgeThink4214   \n",
       "1  IsraelPalestine  2023-11-22 23:42:55  181kiqb  Device_whisperer   \n",
       "2    CombatFootage  2023-11-22 23:42:55  181md5j             bauN7   \n",
       "3  IsraelPalestine  2023-11-22 23:42:54  180tveu    Andromeda_Skye   \n",
       "4    AskMiddleEast  2023-11-22 23:42:48  181l92n           mkbilli   \n",
       "\n",
       "   controversiality  ups  downs  ... post_upvote_ratio post_thumbs_ups  \\\n",
       "0                 0    1      0  ...              0.79             189   \n",
       "1                 0    1      0  ...              0.50               0   \n",
       "2                 0    1      0  ...              0.72              24   \n",
       "3                 0    1      0  ...              0.77              94   \n",
       "4                 0    1      0  ...              1.00              11   \n",
       "\n",
       "   post_total_awards_received    post_created_time  \\\n",
       "0                           0  2023-11-22 10:15:09   \n",
       "1                           0  2023-11-22 21:39:48   \n",
       "2                           0  2023-11-22 22:57:52   \n",
       "3                           0  2023-11-21 22:46:06   \n",
       "4                           0  2023-11-22 22:10:10   \n",
       "\n",
       "                                          clean_text  Compound  Positive  \\\n",
       "0              actually family israel 600 year quite    0.0000     0.000   \n",
       "1  anyone doubt iran nuke israel bomb operational...    0.0219     0.214   \n",
       "2               cool please stop massacring civilian    0.3400     0.523   \n",
       "3  ethnic cleansing ever take place israel israel...   -0.8957     0.081   \n",
       "4  mean yeah fairly obvious israel carrying human...   -0.7579     0.071   \n",
       "\n",
       "   Negative Neutral  Category  \n",
       "0     0.000   1.000   Neutral  \n",
       "1     0.210   0.576   Neutral  \n",
       "2     0.250   0.227   Neutral  \n",
       "3     0.100   0.819  Negative  \n",
       "4     0.282   0.647  Negative  \n",
       "\n",
       "[5 rows x 30 columns]"
      ]
     },
     "execution_count": 18,
     "metadata": {},
     "output_type": "execute_result"
    }
   ],
   "source": [
    "df.head()"
   ]
  },
  {
   "cell_type": "markdown",
   "metadata": {
    "id": "kJ-0VuQPSMsg"
   },
   "source": [
    "# Overall Sentiment Analysis"
   ]
  },
  {
   "cell_type": "code",
   "execution_count": 19,
   "metadata": {},
   "outputs": [
    {
     "name": "stdout",
     "output_type": "stream",
     "text": [
      "Neutral 🙂\n"
     ]
    }
   ],
   "source": [
    "x = sum(df[\"Positive\"])\n",
    "y = sum(df[\"Negative\"])\n",
    "z = sum(df[\"Neutral\"])\n",
    "\n",
    "def sentiment_score(a, b, c):\n",
    "    if (a>b) and (a>c):\n",
    "        return \"Positive 😊\"\n",
    "    elif (b>a) and (b>c):\n",
    "        return \"Negative 😠\"\n",
    "    else:\n",
    "        return \"Neutral 🙂\"\n",
    "        \n",
    "print(sentiment_score(x, y, z))"
   ]
  },
  {
   "cell_type": "code",
   "execution_count": 20,
   "metadata": {},
   "outputs": [
    {
     "data": {
      "image/png": "[encoded data removed]",
      "text/plain": [
       "<Figure size 640x480 with 1 Axes>"
      ]
     },
     "metadata": {},
     "output_type": "display_data"
    },
    {
     "data": {
      "text/plain": [
       "<Figure size 1600x2000 with 0 Axes>"
      ]
     },
     "metadata": {},
     "output_type": "display_data"
    }
   ],
   "source": [
    "import matplotlib.pyplot as plt\n",
    "import numpy as np\n",
    "\n",
    "y = np.array([x,y,z])\n",
    "mylabels = [\"Negative\", \"Positive\", \"Neutral\"]\n",
    "\n",
    "myexplode = [0.2, 0.2, 0.2]\n",
    "\n",
    "plt.pie(y, labels = mylabels, explode = myexplode, shadow = True, center=(0,0))\n",
    "plt.legend(title=\"Emotions of Chat :\",loc='lower right')\n",
    "plt.title('Pie-chart depicting the emotions of our chat',loc='center',color='r',fontsize=20)\n",
    "plt.figure(figsize=(16,20))\n",
    "plt.show()"
   ]
  },
  {
   "cell_type": "code",
   "execution_count": 21,
   "metadata": {},
   "outputs": [
    {
     "name": "stderr",
     "output_type": "stream",
     "text": [
      "[nltk_data] Downloading package stopwords to\n",
      "[nltk_data]     /Users/Amisha/nltk_data...\n",
      "[nltk_data]   Package stopwords is already up-to-date!\n",
      "[nltk_data] Downloading package punkt to /Users/Amisha/nltk_data...\n",
      "[nltk_data]   Package punkt is already up-to-date!\n"
     ]
    },
    {
     "data": {
      "text/plain": [
       "True"
      ]
     },
     "execution_count": 21,
     "metadata": {},
     "output_type": "execute_result"
    }
   ],
   "source": [
    "#importing libraries\n",
    "import nltk\n",
    "nltk.download('stopwords')\n",
    "nltk.download('punkt')"
   ]
  },
  {
   "cell_type": "code",
   "execution_count": 22,
   "metadata": {},
   "outputs": [],
   "source": [
    "data1=df.loc[df['controversiality'] ==0]"
   ]
  },
  {
   "cell_type": "code",
   "execution_count": 23,
   "metadata": {},
   "outputs": [
    {
     "data": {
      "text/html": [
       "<div>\n",
       "<style scoped>\n",
       "    .dataframe tbody tr th:only-of-type {\n",
       "        vertical-align: middle;\n",
       "    }\n",
       "\n",
       "    .dataframe tbody tr th {\n",
       "        vertical-align: top;\n",
       "    }\n",
       "\n",
       "    .dataframe thead th {\n",
       "        text-align: right;\n",
       "    }\n",
       "</style>\n",
       "<table border=\"1\" class=\"dataframe\">\n",
       "  <thead>\n",
       "    <tr style=\"text-align: right;\">\n",
       "      <th></th>\n",
       "      <th>comment_id</th>\n",
       "      <th>score</th>\n",
       "      <th>self_text</th>\n",
       "      <th>subreddit</th>\n",
       "      <th>created_time</th>\n",
       "      <th>post_id</th>\n",
       "      <th>author_name</th>\n",
       "      <th>controversiality</th>\n",
       "      <th>ups</th>\n",
       "      <th>downs</th>\n",
       "      <th>...</th>\n",
       "      <th>post_upvote_ratio</th>\n",
       "      <th>post_thumbs_ups</th>\n",
       "      <th>post_total_awards_received</th>\n",
       "      <th>post_created_time</th>\n",
       "      <th>clean_text</th>\n",
       "      <th>Compound</th>\n",
       "      <th>Positive</th>\n",
       "      <th>Negative</th>\n",
       "      <th>Neutral</th>\n",
       "      <th>Category</th>\n",
       "    </tr>\n",
       "  </thead>\n",
       "  <tbody>\n",
       "    <tr>\n",
       "      <th>0</th>\n",
       "      <td>kadcby5</td>\n",
       "      <td>1</td>\n",
       "      <td>Actually my family has been in Israel for 600 ...</td>\n",
       "      <td>IsraelPalestine</td>\n",
       "      <td>2023-11-22 23:43:09</td>\n",
       "      <td>1815xgm</td>\n",
       "      <td>BridgeThink4214</td>\n",
       "      <td>0</td>\n",
       "      <td>1</td>\n",
       "      <td>0</td>\n",
       "      <td>...</td>\n",
       "      <td>0.79</td>\n",
       "      <td>189</td>\n",
       "      <td>0</td>\n",
       "      <td>2023-11-22 10:15:09</td>\n",
       "      <td>actually family israel 600 year quite</td>\n",
       "      <td>0.0000</td>\n",
       "      <td>0.000</td>\n",
       "      <td>0.000</td>\n",
       "      <td>1.000</td>\n",
       "      <td>Neutral</td>\n",
       "    </tr>\n",
       "    <tr>\n",
       "      <th>1</th>\n",
       "      <td>kadcasl</td>\n",
       "      <td>1</td>\n",
       "      <td>Does anyone doubt that Iran WILL nuke Israel w...</td>\n",
       "      <td>IsraelPalestine</td>\n",
       "      <td>2023-11-22 23:42:55</td>\n",
       "      <td>181kiqb</td>\n",
       "      <td>Device_whisperer</td>\n",
       "      <td>0</td>\n",
       "      <td>1</td>\n",
       "      <td>0</td>\n",
       "      <td>...</td>\n",
       "      <td>0.50</td>\n",
       "      <td>0</td>\n",
       "      <td>0</td>\n",
       "      <td>2023-11-22 21:39:48</td>\n",
       "      <td>anyone doubt iran nuke israel bomb operational...</td>\n",
       "      <td>0.0219</td>\n",
       "      <td>0.214</td>\n",
       "      <td>0.210</td>\n",
       "      <td>0.576</td>\n",
       "      <td>Neutral</td>\n",
       "    </tr>\n",
       "    <tr>\n",
       "      <th>2</th>\n",
       "      <td>kadcas8</td>\n",
       "      <td>1</td>\n",
       "      <td>Cool. Please stop massacring civilians.</td>\n",
       "      <td>CombatFootage</td>\n",
       "      <td>2023-11-22 23:42:55</td>\n",
       "      <td>181md5j</td>\n",
       "      <td>bauN7</td>\n",
       "      <td>0</td>\n",
       "      <td>1</td>\n",
       "      <td>0</td>\n",
       "      <td>...</td>\n",
       "      <td>0.72</td>\n",
       "      <td>24</td>\n",
       "      <td>0</td>\n",
       "      <td>2023-11-22 22:57:52</td>\n",
       "      <td>cool please stop massacring civilian</td>\n",
       "      <td>0.3400</td>\n",
       "      <td>0.523</td>\n",
       "      <td>0.250</td>\n",
       "      <td>0.227</td>\n",
       "      <td>Neutral</td>\n",
       "    </tr>\n",
       "    <tr>\n",
       "      <th>3</th>\n",
       "      <td>kadcanw</td>\n",
       "      <td>1</td>\n",
       "      <td>the only ethnic cleansing that has ever take p...</td>\n",
       "      <td>IsraelPalestine</td>\n",
       "      <td>2023-11-22 23:42:54</td>\n",
       "      <td>180tveu</td>\n",
       "      <td>Andromeda_Skye</td>\n",
       "      <td>0</td>\n",
       "      <td>1</td>\n",
       "      <td>0</td>\n",
       "      <td>...</td>\n",
       "      <td>0.77</td>\n",
       "      <td>94</td>\n",
       "      <td>0</td>\n",
       "      <td>2023-11-21 22:46:06</td>\n",
       "      <td>ethnic cleansing ever take place israel israel...</td>\n",
       "      <td>-0.8957</td>\n",
       "      <td>0.081</td>\n",
       "      <td>0.100</td>\n",
       "      <td>0.819</td>\n",
       "      <td>Negative</td>\n",
       "    </tr>\n",
       "    <tr>\n",
       "      <th>4</th>\n",
       "      <td>kadca8g</td>\n",
       "      <td>1</td>\n",
       "      <td>I mean yeah it was fairly obvious Israel is ca...</td>\n",
       "      <td>AskMiddleEast</td>\n",
       "      <td>2023-11-22 23:42:48</td>\n",
       "      <td>181l92n</td>\n",
       "      <td>mkbilli</td>\n",
       "      <td>0</td>\n",
       "      <td>1</td>\n",
       "      <td>0</td>\n",
       "      <td>...</td>\n",
       "      <td>1.00</td>\n",
       "      <td>11</td>\n",
       "      <td>0</td>\n",
       "      <td>2023-11-22 22:10:10</td>\n",
       "      <td>mean yeah fairly obvious israel carrying human...</td>\n",
       "      <td>-0.7579</td>\n",
       "      <td>0.071</td>\n",
       "      <td>0.282</td>\n",
       "      <td>0.647</td>\n",
       "      <td>Negative</td>\n",
       "    </tr>\n",
       "  </tbody>\n",
       "</table>\n",
       "<p>5 rows × 30 columns</p>\n",
       "</div>"
      ],
      "text/plain": [
       "  comment_id  score                                          self_text  \\\n",
       "0    kadcby5      1  Actually my family has been in Israel for 600 ...   \n",
       "1    kadcasl      1  Does anyone doubt that Iran WILL nuke Israel w...   \n",
       "2    kadcas8      1            Cool. Please stop massacring civilians.   \n",
       "3    kadcanw      1  the only ethnic cleansing that has ever take p...   \n",
       "4    kadca8g      1  I mean yeah it was fairly obvious Israel is ca...   \n",
       "\n",
       "         subreddit         created_time  post_id       author_name  \\\n",
       "0  IsraelPalestine  2023-11-22 23:43:09  1815xgm   BridgeThink4214   \n",
       "1  IsraelPalestine  2023-11-22 23:42:55  181kiqb  Device_whisperer   \n",
       "2    CombatFootage  2023-11-22 23:42:55  181md5j             bauN7   \n",
       "3  IsraelPalestine  2023-11-22 23:42:54  180tveu    Andromeda_Skye   \n",
       "4    AskMiddleEast  2023-11-22 23:42:48  181l92n           mkbilli   \n",
       "\n",
       "   controversiality  ups  downs  ... post_upvote_ratio post_thumbs_ups  \\\n",
       "0                 0    1      0  ...              0.79             189   \n",
       "1                 0    1      0  ...              0.50               0   \n",
       "2                 0    1      0  ...              0.72              24   \n",
       "3                 0    1      0  ...              0.77              94   \n",
       "4                 0    1      0  ...              1.00              11   \n",
       "\n",
       "   post_total_awards_received    post_created_time  \\\n",
       "0                           0  2023-11-22 10:15:09   \n",
       "1                           0  2023-11-22 21:39:48   \n",
       "2                           0  2023-11-22 22:57:52   \n",
       "3                           0  2023-11-21 22:46:06   \n",
       "4                           0  2023-11-22 22:10:10   \n",
       "\n",
       "                                          clean_text  Compound  Positive  \\\n",
       "0              actually family israel 600 year quite    0.0000     0.000   \n",
       "1  anyone doubt iran nuke israel bomb operational...    0.0219     0.214   \n",
       "2               cool please stop massacring civilian    0.3400     0.523   \n",
       "3  ethnic cleansing ever take place israel israel...   -0.8957     0.081   \n",
       "4  mean yeah fairly obvious israel carrying human...   -0.7579     0.071   \n",
       "\n",
       "   Negative Neutral  Category  \n",
       "0     0.000   1.000   Neutral  \n",
       "1     0.210   0.576   Neutral  \n",
       "2     0.250   0.227   Neutral  \n",
       "3     0.100   0.819  Negative  \n",
       "4     0.282   0.647  Negative  \n",
       "\n",
       "[5 rows x 30 columns]"
      ]
     },
     "execution_count": 23,
     "metadata": {},
     "output_type": "execute_result"
    }
   ],
   "source": [
    "data1.head()"
   ]
  },
  {
   "cell_type": "code",
   "execution_count": 24,
   "metadata": {},
   "outputs": [],
   "source": [
    "data1=data1.loc[:,['self_text']]"
   ]
  },
  {
   "cell_type": "code",
   "execution_count": 25,
   "metadata": {},
   "outputs": [
    {
     "data": {
      "text/html": [
       "<div>\n",
       "<style scoped>\n",
       "    .dataframe tbody tr th:only-of-type {\n",
       "        vertical-align: middle;\n",
       "    }\n",
       "\n",
       "    .dataframe tbody tr th {\n",
       "        vertical-align: top;\n",
       "    }\n",
       "\n",
       "    .dataframe thead th {\n",
       "        text-align: right;\n",
       "    }\n",
       "</style>\n",
       "<table border=\"1\" class=\"dataframe\">\n",
       "  <thead>\n",
       "    <tr style=\"text-align: right;\">\n",
       "      <th></th>\n",
       "      <th>self_text</th>\n",
       "    </tr>\n",
       "  </thead>\n",
       "  <tbody>\n",
       "    <tr>\n",
       "      <th>0</th>\n",
       "      <td>Actually my family has been in Israel for 600 ...</td>\n",
       "    </tr>\n",
       "    <tr>\n",
       "      <th>1</th>\n",
       "      <td>Does anyone doubt that Iran WILL nuke Israel w...</td>\n",
       "    </tr>\n",
       "    <tr>\n",
       "      <th>2</th>\n",
       "      <td>Cool. Please stop massacring civilians.</td>\n",
       "    </tr>\n",
       "    <tr>\n",
       "      <th>3</th>\n",
       "      <td>the only ethnic cleansing that has ever take p...</td>\n",
       "    </tr>\n",
       "    <tr>\n",
       "      <th>4</th>\n",
       "      <td>I mean yeah it was fairly obvious Israel is ca...</td>\n",
       "    </tr>\n",
       "    <tr>\n",
       "      <th>...</th>\n",
       "      <td>...</td>\n",
       "    </tr>\n",
       "    <tr>\n",
       "      <th>232017</th>\n",
       "      <td>Something similar happened in Sweden recently.</td>\n",
       "    </tr>\n",
       "    <tr>\n",
       "      <th>232018</th>\n",
       "      <td>They should leave the anger and hatred back wh...</td>\n",
       "    </tr>\n",
       "    <tr>\n",
       "      <th>232019</th>\n",
       "      <td>Something similar happened in Germany recently...</td>\n",
       "    </tr>\n",
       "    <tr>\n",
       "      <th>232020</th>\n",
       "      <td>Who are the yellow shirts? The referees?</td>\n",
       "    </tr>\n",
       "    <tr>\n",
       "      <th>232021</th>\n",
       "      <td>Something similar happened in Toronto recently.</td>\n",
       "    </tr>\n",
       "  </tbody>\n",
       "</table>\n",
       "<p>218347 rows × 1 columns</p>\n",
       "</div>"
      ],
      "text/plain": [
       "                                                self_text\n",
       "0       Actually my family has been in Israel for 600 ...\n",
       "1       Does anyone doubt that Iran WILL nuke Israel w...\n",
       "2                 Cool. Please stop massacring civilians.\n",
       "3       the only ethnic cleansing that has ever take p...\n",
       "4       I mean yeah it was fairly obvious Israel is ca...\n",
       "...                                                   ...\n",
       "232017     Something similar happened in Sweden recently.\n",
       "232018  They should leave the anger and hatred back wh...\n",
       "232019  Something similar happened in Germany recently...\n",
       "232020           Who are the yellow shirts? The referees?\n",
       "232021    Something similar happened in Toronto recently.\n",
       "\n",
       "[218347 rows x 1 columns]"
      ]
     },
     "execution_count": 25,
     "metadata": {},
     "output_type": "execute_result"
    }
   ],
   "source": [
    "data1"
   ]
  },
  {
   "cell_type": "code",
   "execution_count": 26,
   "metadata": {},
   "outputs": [
    {
     "name": "stderr",
     "output_type": "stream",
     "text": [
      "[nltk_data] Downloading package vader_lexicon to\n",
      "[nltk_data]     /Users/Amisha/nltk_data...\n",
      "[nltk_data]   Package vader_lexicon is already up-to-date!\n"
     ]
    },
    {
     "data": {
      "text/html": [
       "<div>\n",
       "<style scoped>\n",
       "    .dataframe tbody tr th:only-of-type {\n",
       "        vertical-align: middle;\n",
       "    }\n",
       "\n",
       "    .dataframe tbody tr th {\n",
       "        vertical-align: top;\n",
       "    }\n",
       "\n",
       "    .dataframe thead th {\n",
       "        text-align: right;\n",
       "    }\n",
       "</style>\n",
       "<table border=\"1\" class=\"dataframe\">\n",
       "  <thead>\n",
       "    <tr style=\"text-align: right;\">\n",
       "      <th></th>\n",
       "      <th>self_text</th>\n",
       "      <th>Positive</th>\n",
       "      <th>Negative</th>\n",
       "      <th>Neutral</th>\n",
       "      <th>Compound</th>\n",
       "      <th>Sentiment</th>\n",
       "    </tr>\n",
       "  </thead>\n",
       "  <tbody>\n",
       "    <tr>\n",
       "      <th>0</th>\n",
       "      <td>Actually my family has been in Israel for 600 ...</td>\n",
       "      <td>0.000</td>\n",
       "      <td>0.000</td>\n",
       "      <td>1.000</td>\n",
       "      <td>0.0000</td>\n",
       "      <td>Neutral</td>\n",
       "    </tr>\n",
       "    <tr>\n",
       "      <th>1</th>\n",
       "      <td>Does anyone doubt that Iran WILL nuke Israel w...</td>\n",
       "      <td>0.077</td>\n",
       "      <td>0.117</td>\n",
       "      <td>0.806</td>\n",
       "      <td>-0.9509</td>\n",
       "      <td>Negative</td>\n",
       "    </tr>\n",
       "    <tr>\n",
       "      <th>2</th>\n",
       "      <td>Cool. Please stop massacring civilians.</td>\n",
       "      <td>0.523</td>\n",
       "      <td>0.250</td>\n",
       "      <td>0.227</td>\n",
       "      <td>0.3400</td>\n",
       "      <td>Positive</td>\n",
       "    </tr>\n",
       "    <tr>\n",
       "      <th>3</th>\n",
       "      <td>the only ethnic cleansing that has ever take p...</td>\n",
       "      <td>0.059</td>\n",
       "      <td>0.026</td>\n",
       "      <td>0.915</td>\n",
       "      <td>0.9093</td>\n",
       "      <td>Positive</td>\n",
       "    </tr>\n",
       "    <tr>\n",
       "      <th>4</th>\n",
       "      <td>I mean yeah it was fairly obvious Israel is ca...</td>\n",
       "      <td>0.053</td>\n",
       "      <td>0.126</td>\n",
       "      <td>0.821</td>\n",
       "      <td>-0.4588</td>\n",
       "      <td>Negative</td>\n",
       "    </tr>\n",
       "  </tbody>\n",
       "</table>\n",
       "</div>"
      ],
      "text/plain": [
       "                                           self_text  Positive  Negative  \\\n",
       "0  Actually my family has been in Israel for 600 ...     0.000     0.000   \n",
       "1  Does anyone doubt that Iran WILL nuke Israel w...     0.077     0.117   \n",
       "2            Cool. Please stop massacring civilians.     0.523     0.250   \n",
       "3  the only ethnic cleansing that has ever take p...     0.059     0.026   \n",
       "4  I mean yeah it was fairly obvious Israel is ca...     0.053     0.126   \n",
       "\n",
       "   Neutral  Compound Sentiment  \n",
       "0    1.000    0.0000   Neutral  \n",
       "1    0.806   -0.9509  Negative  \n",
       "2    0.227    0.3400  Positive  \n",
       "3    0.915    0.9093  Positive  \n",
       "4    0.821   -0.4588  Negative  "
      ]
     },
     "execution_count": 26,
     "metadata": {},
     "output_type": "execute_result"
    }
   ],
   "source": [
    "import nltk\n",
    "from nltk.sentiment import SentimentIntensityAnalyzer\n",
    "import pandas as pd\n",
    "\n",
    "nltk.download('vader_lexicon')\n",
    "\n",
    "# Assuming data1 is your DataFrame\n",
    "data1[\"self_text\"] = data1[\"self_text\"].fillna('')  # Replace NaN values with an empty string\n",
    "\n",
    "sentiments = SentimentIntensityAnalyzer()\n",
    "data1[\"Positive\"] = [sentiments.polarity_scores(str(i))[\"pos\"] for i in data1[\"self_text\"]]\n",
    "data1[\"Negative\"] = [sentiments.polarity_scores(str(i))[\"neg\"] for i in data1[\"self_text\"]]\n",
    "data1[\"Neutral\"] = [sentiments.polarity_scores(str(i))[\"neu\"] for i in data1[\"self_text\"]]\n",
    "data1['Compound'] = [sentiments.polarity_scores(str(i))[\"compound\"] for i in data1[\"self_text\"]]\n",
    "\n",
    "score = data1[\"Compound\"].values\n",
    "sentiment = []\n",
    "\n",
    "for i in score:\n",
    "    if i >= 0.05:\n",
    "        sentiment.append('Positive')\n",
    "    elif i <= -0.05:\n",
    "        sentiment.append('Negative')\n",
    "    else:\n",
    "        sentiment.append('Neutral')\n",
    "\n",
    "data1[\"Sentiment\"] = sentiment\n",
    "data1.head()\n"
   ]
  },
  {
   "cell_type": "code",
   "execution_count": 27,
   "metadata": {},
   "outputs": [
    {
     "data": {
      "text/html": [
       "<div>\n",
       "<style scoped>\n",
       "    .dataframe tbody tr th:only-of-type {\n",
       "        vertical-align: middle;\n",
       "    }\n",
       "\n",
       "    .dataframe tbody tr th {\n",
       "        vertical-align: top;\n",
       "    }\n",
       "\n",
       "    .dataframe thead th {\n",
       "        text-align: right;\n",
       "    }\n",
       "</style>\n",
       "<table border=\"1\" class=\"dataframe\">\n",
       "  <thead>\n",
       "    <tr style=\"text-align: right;\">\n",
       "      <th></th>\n",
       "      <th>self_text</th>\n",
       "      <th>Sentiment</th>\n",
       "    </tr>\n",
       "  </thead>\n",
       "  <tbody>\n",
       "    <tr>\n",
       "      <th>0</th>\n",
       "      <td>Actually my family has been in Israel for 600 ...</td>\n",
       "      <td>Neutral</td>\n",
       "    </tr>\n",
       "    <tr>\n",
       "      <th>1</th>\n",
       "      <td>Does anyone doubt that Iran WILL nuke Israel w...</td>\n",
       "      <td>Negative</td>\n",
       "    </tr>\n",
       "    <tr>\n",
       "      <th>2</th>\n",
       "      <td>Cool. Please stop massacring civilians.</td>\n",
       "      <td>Positive</td>\n",
       "    </tr>\n",
       "    <tr>\n",
       "      <th>3</th>\n",
       "      <td>the only ethnic cleansing that has ever take p...</td>\n",
       "      <td>Positive</td>\n",
       "    </tr>\n",
       "    <tr>\n",
       "      <th>4</th>\n",
       "      <td>I mean yeah it was fairly obvious Israel is ca...</td>\n",
       "      <td>Negative</td>\n",
       "    </tr>\n",
       "  </tbody>\n",
       "</table>\n",
       "</div>"
      ],
      "text/plain": [
       "                                           self_text Sentiment\n",
       "0  Actually my family has been in Israel for 600 ...   Neutral\n",
       "1  Does anyone doubt that Iran WILL nuke Israel w...  Negative\n",
       "2            Cool. Please stop massacring civilians.  Positive\n",
       "3  the only ethnic cleansing that has ever take p...  Positive\n",
       "4  I mean yeah it was fairly obvious Israel is ca...  Negative"
      ]
     },
     "execution_count": 27,
     "metadata": {},
     "output_type": "execute_result"
    }
   ],
   "source": [
    "data2=data1.drop(['Positive','Negative','Neutral','Compound'],axis=1)\n",
    "data2.head()"
   ]
  },
  {
   "cell_type": "code",
   "execution_count": 28,
   "metadata": {},
   "outputs": [],
   "source": [
    "from nltk.stem import PorterStemmer, LancasterStemmer\n",
    "from nltk.stem.snowball import SnowballStemmer\n",
    "stop_words = stopwords.words('english')\n",
    "porter_stemmer = PorterStemmer()\n",
    "lancaster_stemmer = LancasterStemmer() \n",
    "snowball_stemer = SnowballStemmer(language=\"english\")\n",
    "lzr = WordNetLemmatizer()"
   ]
  },
  {
   "cell_type": "code",
   "execution_count": 29,
   "metadata": {},
   "outputs": [],
   "source": [
    "def text_processing(text):   \n",
    "    # convert text into lowercase\n",
    "    text = text.lower()\n",
    "\n",
    "    # remove new line characters in text\n",
    "    text = re.sub(r'\\n',' ', text)\n",
    "    \n",
    "    # remove punctuations from text\n",
    "    text = re.sub('[%s]' % re.escape(punctuation), \"\", text)\n",
    "    \n",
    "    # remove references and hashtags from text\n",
    "    text = re.sub(\"^a-zA-Z0-9$,.\", \"\", text)\n",
    "    \n",
    "    # remove multiple spaces from text\n",
    "    text = re.sub(r'\\s+', ' ', text, flags=re.I)\n",
    "    \n",
    "    # remove special characters from text\n",
    "    text = re.sub(r'\\W', ' ', text)\n",
    "\n",
    "    text = ' '.join([word for word in word_tokenize(text) if word not in stop_words])\n",
    "      # stemming using porter stemmer from nltk package - msh a7sn 7aga - momken: lancaster, snowball\n",
    "    # text=' '.join([porter_stemmer.stem(word) for word in word_tokenize(text)])\n",
    "    # text=' '.join([lancaster_stemmer.stem(word) for word in word_tokenize(text)])\n",
    "    # text=' '.join([snowball_stemer.stem(word) for word in word_tokenize(text)])\n",
    "    \n",
    "    # lemmatizer using WordNetLemmatizer from nltk package\n",
    "    text=' '.join([lzr.lemmatize(word) for word in word_tokenize(text)])\n",
    "\n",
    "    return text"
   ]
  },
  {
   "cell_type": "code",
   "execution_count": 30,
   "metadata": {},
   "outputs": [
    {
     "name": "stderr",
     "output_type": "stream",
     "text": [
      "[nltk_data] Downloading package omw-1.4 to /Users/Amisha/nltk_data...\n",
      "[nltk_data]   Package omw-1.4 is already up-to-date!\n"
     ]
    }
   ],
   "source": [
    "nltk.download('omw-1.4')\n",
    "data_copy = data2.copy()"
   ]
  },
  {
   "cell_type": "code",
   "execution_count": 31,
   "metadata": {},
   "outputs": [],
   "source": [
    "from sklearn.preprocessing import LabelEncoder\n",
    "le = LabelEncoder()\n",
    "data_copy['Sentiment'] = le.fit_transform(data_copy['Sentiment'])"
   ]
  },
  {
   "cell_type": "code",
   "execution_count": 32,
   "metadata": {},
   "outputs": [
    {
     "data": {
      "text/html": [
       "<div>\n",
       "<style scoped>\n",
       "    .dataframe tbody tr th:only-of-type {\n",
       "        vertical-align: middle;\n",
       "    }\n",
       "\n",
       "    .dataframe tbody tr th {\n",
       "        vertical-align: top;\n",
       "    }\n",
       "\n",
       "    .dataframe thead th {\n",
       "        text-align: right;\n",
       "    }\n",
       "</style>\n",
       "<table border=\"1\" class=\"dataframe\">\n",
       "  <thead>\n",
       "    <tr style=\"text-align: right;\">\n",
       "      <th></th>\n",
       "      <th>self_text</th>\n",
       "      <th>Sentiment</th>\n",
       "    </tr>\n",
       "  </thead>\n",
       "  <tbody>\n",
       "    <tr>\n",
       "      <th>0</th>\n",
       "      <td>Actually my family has been in Israel for 600 ...</td>\n",
       "      <td>1</td>\n",
       "    </tr>\n",
       "    <tr>\n",
       "      <th>1</th>\n",
       "      <td>Does anyone doubt that Iran WILL nuke Israel w...</td>\n",
       "      <td>0</td>\n",
       "    </tr>\n",
       "    <tr>\n",
       "      <th>2</th>\n",
       "      <td>Cool. Please stop massacring civilians.</td>\n",
       "      <td>2</td>\n",
       "    </tr>\n",
       "    <tr>\n",
       "      <th>3</th>\n",
       "      <td>the only ethnic cleansing that has ever take p...</td>\n",
       "      <td>2</td>\n",
       "    </tr>\n",
       "    <tr>\n",
       "      <th>4</th>\n",
       "      <td>I mean yeah it was fairly obvious Israel is ca...</td>\n",
       "      <td>0</td>\n",
       "    </tr>\n",
       "  </tbody>\n",
       "</table>\n",
       "</div>"
      ],
      "text/plain": [
       "                                           self_text  Sentiment\n",
       "0  Actually my family has been in Israel for 600 ...          1\n",
       "1  Does anyone doubt that Iran WILL nuke Israel w...          0\n",
       "2            Cool. Please stop massacring civilians.          2\n",
       "3  the only ethnic cleansing that has ever take p...          2\n",
       "4  I mean yeah it was fairly obvious Israel is ca...          0"
      ]
     },
     "execution_count": 32,
     "metadata": {},
     "output_type": "execute_result"
    }
   ],
   "source": [
    "processed_data = {\n",
    "    'self_text':data_copy.self_text,\n",
    "    'Sentiment':data_copy['Sentiment']\n",
    "}\n",
    "\n",
    "processed_data = pd.DataFrame(processed_data)\n",
    "processed_data.head()"
   ]
  },
  {
   "cell_type": "code",
   "execution_count": 33,
   "metadata": {},
   "outputs": [
    {
     "data": {
      "text/plain": [
       "Sentiment\n",
       "0    100742\n",
       "2     70399\n",
       "1     47206\n",
       "Name: count, dtype: int64"
      ]
     },
     "execution_count": 33,
     "metadata": {},
     "output_type": "execute_result"
    }
   ],
   "source": [
    "processed_data['Sentiment'].value_counts()"
   ]
  },
  {
   "cell_type": "code",
   "execution_count": 34,
   "metadata": {},
   "outputs": [],
   "source": [
    "from sklearn.utils import resample"
   ]
  },
  {
   "cell_type": "code",
   "execution_count": 35,
   "metadata": {},
   "outputs": [],
   "source": [
    "df_neutral = processed_data[(processed_data['Sentiment']==1)] \n",
    "df_negative = processed_data[(processed_data['Sentiment']==0)]\n",
    "df_positive = processed_data[(processed_data['Sentiment']==2)]\n",
    "\n",
    "# upsample minority classes\n",
    "df_negative_upsampled = resample(df_negative, \n",
    "                                 replace=True,    \n",
    "                                 n_samples= 205, \n",
    "                                 random_state=42)  \n",
    "\n",
    "df_neutral_upsampled = resample(df_neutral, \n",
    "                                 replace=True,    \n",
    "                                 n_samples= 205, \n",
    "                                 random_state=42)  \n",
    "\n",
    "\n",
    "# Concatenate the upsampled dataframes with the neutral dataframe\n",
    "final_data = pd.concat([df_negative_upsampled,df_neutral_upsampled,df_positive])"
   ]
  },
  {
   "cell_type": "code",
   "execution_count": 36,
   "metadata": {},
   "outputs": [
    {
     "data": {
      "text/plain": [
       "Sentiment\n",
       "2    70399\n",
       "0      205\n",
       "1      205\n",
       "Name: count, dtype: int64"
      ]
     },
     "execution_count": 36,
     "metadata": {},
     "output_type": "execute_result"
    }
   ],
   "source": [
    "final_data['Sentiment'].value_counts()"
   ]
  },
  {
   "cell_type": "code",
   "execution_count": 37,
   "metadata": {},
   "outputs": [],
   "source": [
    "from nltk.corpus import stopwords\n",
    "from nltk.corpus import wordnet"
   ]
  },
  {
   "cell_type": "code",
   "execution_count": 38,
   "metadata": {},
   "outputs": [
    {
     "data": {
      "text/plain": [
       "['I had two entirely different accounts reply the EXACT same line. Both with a few hundred followers. I suspect all those hundreds are bots.',\n",
       " 'Ah okay so killing 1000 children with every passing week is okay as long as its revenge, got it.',\n",
       " \"There have been a lot of Jewish people who have been against this bombardment and merciless killing of Palestinians - all over the world.\\n\\nIt's easy to Google this up.\",\n",
       " 'So gay people will side with Israel over Palestine because Palestine won’t legalise Gay sex? And not because they think the bloodshed is worthless. The fact of the matter is get rid of the genocide first and then think about legalising LGBTQ. I swear these gay people have to put their protest in everywhere, even when it’s not asked for and there are literally BIGGER WORRIES!',\n",
       " \"Off the top of my head this is the evidence that AlShifa was a khamas base given so far by the IOF:\\n\\n-A list of Khamas terrorists that just said the days of the week in arabic. \\n-An animation created by IDF intelligence showing a tunnel system.\\n-An animation highlighting Khamas bases as red also highlighted the hospital red.\\n-A babies bottle and daiper in a children's hospital as proof that hostages were there.\\n-A video showing an AK-47 stashed next to an MRI machine which then later turned into two for the controlled press footage. (You cannot hide weapons near an MRI machine)\\n-They said an elevator shaft was 'an operational tunnel' and that a robot found a blast proof door which they didn't show. \\nThey took a photo with ten AK-47s and a few grenades, which they claim to have found but also took the time to arrange on a table. \\n\\nThe IOFs absurdly childish attempts to justify destroying a fully operational hospital with thousands of people inside are genuinely sickening.\"]"
      ]
     },
     "execution_count": 38,
     "metadata": {},
     "output_type": "execute_result"
    }
   ],
   "source": [
    "corpus = []\n",
    "for self_text in final_data['self_text']:\n",
    "    corpus.append(self_text)\n",
    "corpus[0:5]"
   ]
  },
  {
   "cell_type": "markdown",
   "metadata": {},
   "source": [
    "# Performance Evaluation using Gaussian NB Model"
   ]
  },
  {
   "cell_type": "code",
   "execution_count": 39,
   "metadata": {},
   "outputs": [],
   "source": [
    "from sklearn.feature_extraction.text import CountVectorizer\n",
    "cv = CountVectorizer(max_features=1500)\n",
    "X = cv.fit_transform(corpus).toarray()\n",
    "y = final_data.iloc[:, -1].values"
   ]
  },
  {
   "cell_type": "code",
   "execution_count": 40,
   "metadata": {},
   "outputs": [
    {
     "data": {
      "text/html": [
       "<style>#sk-container-id-1 {color: black;}#sk-container-id-1 pre{padding: 0;}#sk-container-id-1 div.sk-toggleable {background-color: white;}#sk-container-id-1 label.sk-toggleable__label {cursor: pointer;display: block;width: 100%;margin-bottom: 0;padding: 0.3em;box-sizing: border-box;text-align: center;}#sk-container-id-1 label.sk-toggleable__label-arrow:before {content: \"▸\";float: left;margin-right: 0.25em;color: #696969;}#sk-container-id-1 label.sk-toggleable__label-arrow:hover:before {color: black;}#sk-container-id-1 div.sk-estimator:hover label.sk-toggleable__label-arrow:before {color: black;}#sk-container-id-1 div.sk-toggleable__content {max-height: 0;max-width: 0;overflow: hidden;text-align: left;background-color: #f0f8ff;}#sk-container-id-1 div.sk-toggleable__content pre {margin: 0.2em;color: black;border-radius: 0.25em;background-color: #f0f8ff;}#sk-container-id-1 input.sk-toggleable__control:checked~div.sk-toggleable__content {max-height: 200px;max-width: 100%;overflow: auto;}#sk-container-id-1 input.sk-toggleable__control:checked~label.sk-toggleable__label-arrow:before {content: \"▾\";}#sk-container-id-1 div.sk-estimator input.sk-toggleable__control:checked~label.sk-toggleable__label {background-color: #d4ebff;}#sk-container-id-1 div.sk-label input.sk-toggleable__control:checked~label.sk-toggleable__label {background-color: #d4ebff;}#sk-container-id-1 input.sk-hidden--visually {border: 0;clip: rect(1px 1px 1px 1px);clip: rect(1px, 1px, 1px, 1px);height: 1px;margin: -1px;overflow: hidden;padding: 0;position: absolute;width: 1px;}#sk-container-id-1 div.sk-estimator {font-family: monospace;background-color: #f0f8ff;border: 1px dotted black;border-radius: 0.25em;box-sizing: border-box;margin-bottom: 0.5em;}#sk-container-id-1 div.sk-estimator:hover {background-color: #d4ebff;}#sk-container-id-1 div.sk-parallel-item::after {content: \"\";width: 100%;border-bottom: 1px solid gray;flex-grow: 1;}#sk-container-id-1 div.sk-label:hover label.sk-toggleable__label {background-color: #d4ebff;}#sk-container-id-1 div.sk-serial::before {content: \"\";position: absolute;border-left: 1px solid gray;box-sizing: border-box;top: 0;bottom: 0;left: 50%;z-index: 0;}#sk-container-id-1 div.sk-serial {display: flex;flex-direction: column;align-items: center;background-color: white;padding-right: 0.2em;padding-left: 0.2em;position: relative;}#sk-container-id-1 div.sk-item {position: relative;z-index: 1;}#sk-container-id-1 div.sk-parallel {display: flex;align-items: stretch;justify-content: center;background-color: white;position: relative;}#sk-container-id-1 div.sk-item::before, #sk-container-id-1 div.sk-parallel-item::before {content: \"\";position: absolute;border-left: 1px solid gray;box-sizing: border-box;top: 0;bottom: 0;left: 50%;z-index: -1;}#sk-container-id-1 div.sk-parallel-item {display: flex;flex-direction: column;z-index: 1;position: relative;background-color: white;}#sk-container-id-1 div.sk-parallel-item:first-child::after {align-self: flex-end;width: 50%;}#sk-container-id-1 div.sk-parallel-item:last-child::after {align-self: flex-start;width: 50%;}#sk-container-id-1 div.sk-parallel-item:only-child::after {width: 0;}#sk-container-id-1 div.sk-dashed-wrapped {border: 1px dashed gray;margin: 0 0.4em 0.5em 0.4em;box-sizing: border-box;padding-bottom: 0.4em;background-color: white;}#sk-container-id-1 div.sk-label label {font-family: monospace;font-weight: bold;display: inline-block;line-height: 1.2em;}#sk-container-id-1 div.sk-label-container {text-align: center;}#sk-container-id-1 div.sk-container {/* jupyter's `normalize.less` sets `[hidden] { display: none; }` but bootstrap.min.css set `[hidden] { display: none !important; }` so we also need the `!important` here to be able to override the default hidden behavior on the sphinx rendered scikit-learn.org. See: https://github.com/scikit-learn/scikit-learn/issues/21755 */display: inline-block !important;position: relative;}#sk-container-id-1 div.sk-text-repr-fallback {display: none;}</style><div id=\"sk-container-id-1\" class=\"sk-top-container\"><div class=\"sk-text-repr-fallback\"><pre>GaussianNB()</pre><b>In a Jupyter environment, please rerun this cell to show the HTML representation or trust the notebook. <br />On GitHub, the HTML representation is unable to render, please try loading this page with nbviewer.org.</b></div><div class=\"sk-container\" hidden><div class=\"sk-item\"><div class=\"sk-estimator sk-toggleable\"><input class=\"sk-toggleable__control sk-hidden--visually\" id=\"sk-estimator-id-1\" type=\"checkbox\" checked><label for=\"sk-estimator-id-1\" class=\"sk-toggleable__label sk-toggleable__label-arrow\">GaussianNB</label><div class=\"sk-toggleable__content\"><pre>GaussianNB()</pre></div></div></div></div></div>"
      ],
      "text/plain": [
       "GaussianNB()"
      ]
     },
     "execution_count": 40,
     "metadata": {},
     "output_type": "execute_result"
    }
   ],
   "source": [
    "from sklearn.naive_bayes import GaussianNB\n",
    "from sklearn.model_selection import train_test_split\n",
    "X_train, X_test, y_train, y_test = train_test_split(X, y, test_size=0.3, random_state=0)\n",
    "classifier = GaussianNB()\n",
    "classifier.fit(X_train, y_train)"
   ]
  },
  {
   "cell_type": "code",
   "execution_count": 41,
   "metadata": {},
   "outputs": [
    {
     "name": "stdout",
     "output_type": "stream",
     "text": [
      "Accuracy: 0.7053146918985077\n",
      "Confusion Matrix:\n",
      " [[   13     1    36]\n",
      " [   13    19    31]\n",
      " [ 5081  1098 14951]]\n",
      "Precision, Recall, and F1 Score:\n",
      "              precision    recall  f1-score   support\n",
      "\n",
      "  Negative-0       0.00      0.26      0.01        50\n",
      "   Neutral-1       0.02      0.30      0.03        63\n",
      "  Positive-2       1.00      0.71      0.83     21130\n",
      "\n",
      "    accuracy                           0.71     21243\n",
      "   macro avg       0.34      0.42      0.29     21243\n",
      "weighted avg       0.99      0.71      0.82     21243\n",
      "\n"
     ]
    }
   ],
   "source": [
    "from sklearn.metrics import confusion_matrix, accuracy_score, classification_report\n",
    "# Define the new model to use\n",
    "y_pred_gnb = classifier.predict(X_test)\n",
    "\n",
    "# Calculate the accuracy of the model\n",
    "accuracy_gnb = accuracy_score(y_test, y_pred_gnb)\n",
    "print('Accuracy:', accuracy_gnb)\n",
    "\n",
    "# Compute and print the confusion matrix\n",
    "cm = confusion_matrix(y_test, y_pred_gnb)\n",
    "print(\"Confusion Matrix:\\n\", cm)\n",
    "\n",
    "# Compute and print the precision, recall, and f1 score for each class\n",
    "print(\"Precision, Recall, and F1 Score:\")\n",
    "print(classification_report(y_test, y_pred_gnb,target_names=['Negative-0', 'Neutral-1', 'Positive-2']))"
   ]
  },
  {
   "cell_type": "code",
   "execution_count": 42,
   "metadata": {},
   "outputs": [
    {
     "data": {
      "image/png": "[encoded data removed]",
      "text/plain": [
       "<Figure size 640x480 with 1 Axes>"
      ]
     },
     "metadata": {},
     "output_type": "display_data"
    }
   ],
   "source": [
    "import matplotlib.pyplot as plt\n",
    "import seaborn as sns\n",
    "from sklearn.metrics import confusion_matrix, accuracy_score, classification_report, precision_score, recall_score, f1_score\n",
    "import numpy as np\n",
    "\n",
    "# Plot the precision, recall, and F1 score bar chart\n",
    "labels = ['Negative', 'Neutral', 'Positive']\n",
    "metrics = ['Precision', 'Recall', 'F1 score']\n",
    "scores = [precision_score(y_test, y_pred_gnb, average=None), recall_score(y_test, y_pred_gnb, average=None), f1_score(y_test, y_pred_gnb, average=None)]\n",
    "\n",
    "x = np.arange(len(labels))\n",
    "width = 0.2\n",
    "\n",
    "fig, ax = plt.subplots()\n",
    "for i, metric in enumerate(metrics):\n",
    "    ax.bar(x - width + i * width, scores[i], width, label=metric)\n",
    "\n",
    "ax.set_xticks(x)\n",
    "ax.set_xticklabels(labels)\n",
    "ax.set_ylabel('Score')\n",
    "ax.set_title('Precision, Recall, and F1 Score of Gaussian NB Model')\n",
    "ax.legend()\n",
    "plt.show()"
   ]
  },
  {
   "cell_type": "markdown",
   "metadata": {},
   "source": [
    "#  Performance Evaluation using Rnadom forest Algorithm"
   ]
  },
  {
   "cell_type": "code",
   "execution_count": 43,
   "metadata": {},
   "outputs": [
    {
     "name": "stdout",
     "output_type": "stream",
     "text": [
      "Accuracy: 0.9944452290166172\n",
      "Confusion Matrix:\n",
      " [[    0     0    50]\n",
      " [    0     1    62]\n",
      " [    1     5 21124]]\n",
      "Precision, Recall, and F1 Score:\n",
      "              precision    recall  f1-score   support\n",
      "\n",
      "  Negative-0       0.00      0.00      0.00        50\n",
      "   Neutral-1       0.17      0.02      0.03        63\n",
      "  Positive-2       0.99      1.00      1.00     21130\n",
      "\n",
      "    accuracy                           0.99     21243\n",
      "   macro avg       0.39      0.34      0.34     21243\n",
      "weighted avg       0.99      0.99      0.99     21243\n",
      "\n"
     ]
    }
   ],
   "source": [
    "from sklearn.ensemble import RandomForestClassifier\n",
    "\n",
    "# Create a Random Forest Classifier object with default hyperparameters\n",
    "rfc = RandomForestClassifier()\n",
    "\n",
    "# Fit the classifier on the training data\n",
    "rfc.fit(X_train, y_train)\n",
    "\n",
    "# Make predictions on the test data\n",
    "y_pred_rfc = rfc.predict(X_test)\n",
    "\n",
    "\n",
    "# Compute and print the accuracy score\n",
    "accuracy_rfc = accuracy_score(y_test,y_pred_rfc)\n",
    "print(\"Accuracy:\", accuracy_rfc)\n",
    "\n",
    "# Compute and print the confusion matrix\n",
    "cm = confusion_matrix(y_test, y_pred_rfc)\n",
    "print(\"Confusion Matrix:\\n\", cm)\n",
    "\n",
    "# Compute and print the precision, recall, and f1 score for each class\n",
    "print(\"Precision, Recall, and F1 Score:\")\n",
    "print(classification_report(y_test,y_pred_rfc,target_names=['Negative-0', 'Neutral-1', 'Positive-2']))"
   ]
  },
  {
   "cell_type": "code",
   "execution_count": 44,
   "metadata": {},
   "outputs": [
    {
     "data": {
      "image/png": "[encoded data removed]",
      "text/plain": [
       "<Figure size 640x480 with 1 Axes>"
      ]
     },
     "metadata": {},
     "output_type": "display_data"
    }
   ],
   "source": [
    "import matplotlib.pyplot as plt\n",
    "import seaborn as sns\n",
    "from sklearn.metrics import confusion_matrix, accuracy_score, classification_report, precision_score, recall_score, f1_score\n",
    "import numpy as np\n",
    "\n",
    "# Plot the precision, recall, and F1 score bar chart\n",
    "labels = ['Negative', 'Neutral', 'Positive']\n",
    "metrics = ['Precision', 'Recall', 'F1 score']\n",
    "scores = [precision_score(y_test, y_pred_rfc, average=None), recall_score(y_test, y_pred_rfc, average=None), f1_score(y_test, y_pred_rfc, average=None)]\n",
    "\n",
    "x = np.arange(len(labels))\n",
    "width = 0.2\n",
    "\n",
    "fig, ax = plt.subplots()\n",
    "for i, metric in enumerate(metrics):\n",
    "    ax.bar(x - width + i * width, scores[i], width, label=metric)\n",
    "\n",
    "ax.set_xticks(x)\n",
    "ax.set_xticklabels(labels)\n",
    "ax.set_ylabel('Score')\n",
    "ax.set_title('Precision, Recall, and F1 Score of Random Forest Model')\n",
    "ax.legend()\n",
    "plt.show()"
   ]
  },
  {
   "cell_type": "markdown",
   "metadata": {},
   "source": [
    "# Performance Evaluation using Decision tree Classifier"
   ]
  },
  {
   "cell_type": "code",
   "execution_count": 45,
   "metadata": {},
   "outputs": [
    {
     "name": "stdout",
     "output_type": "stream",
     "text": [
      "Accuracy: 0.9860189238808078\n",
      "Confusion Matrix:\n",
      " [[    0     1    49]\n",
      " [    0     2    61]\n",
      " [   57   129 20944]]\n",
      "Precision, Recall, and F1 Score:\n",
      "              precision    recall  f1-score   support\n",
      "\n",
      "  Negative-0       0.00      0.00      0.00        50\n",
      "   Neutral-1       0.02      0.03      0.02        63\n",
      "  Positive-2       0.99      0.99      0.99     21130\n",
      "\n",
      "    accuracy                           0.99     21243\n",
      "   macro avg       0.34      0.34      0.34     21243\n",
      "weighted avg       0.99      0.99      0.99     21243\n",
      "\n"
     ]
    }
   ],
   "source": [
    "from sklearn.metrics import classification_report\n",
    "\n",
    "# Define the new model to use\n",
    "from sklearn.tree import DecisionTreeClassifier\n",
    "classifier = DecisionTreeClassifier()\n",
    "\n",
    "# Fit the model on the training data\n",
    "classifier.fit(X_train, y_train)\n",
    "\n",
    "# Use the model to make predictions on the test data\n",
    "y_pred_dt = classifier.predict(X_test)\n",
    "\n",
    "# Calculate the accuracy of the model\n",
    "accuracy_dt = accuracy_score(y_test, y_pred_dt)\n",
    "\n",
    "# Print the accuracy of the model\n",
    "print('Accuracy:', accuracy_dt)\n",
    "\n",
    "# Compute and print the confusion matrix\n",
    "cm = confusion_matrix(y_test, y_pred_dt)\n",
    "print(\"Confusion Matrix:\\n\", cm)\n",
    "\n",
    "# Print the classification report\n",
    "report = classification_report(y_test, y_pred_dt, target_names=['Negative-0', 'Neutral-1', 'Positive-2'])\n",
    "print(\"Precision, Recall, and F1 Score:\")\n",
    "print(report)"
   ]
  },
  {
   "cell_type": "code",
   "execution_count": 46,
   "metadata": {},
   "outputs": [
    {
     "data": {
      "image/png": "[encoded data removed]",
      "text/plain": [
       "<Figure size 640x480 with 1 Axes>"
      ]
     },
     "metadata": {},
     "output_type": "display_data"
    }
   ],
   "source": [
    "import matplotlib.pyplot as plt\n",
    "import seaborn as sns\n",
    "from sklearn.metrics import confusion_matrix, accuracy_score, classification_report, precision_score, recall_score, f1_score\n",
    "import numpy as np\n",
    "\n",
    "# Plot the precision, recall, and F1 score bar chart\n",
    "labels = ['Negative', 'Neutral', 'Positive']\n",
    "metrics = ['Precision', 'Recall', 'F1 score']\n",
    "scores = [precision_score(y_test, y_pred_dt, average=None), recall_score(y_test, y_pred_dt, average=None), f1_score(y_test, y_pred_dt, average=None)]\n",
    "\n",
    "x = np.arange(len(labels))\n",
    "width = 0.2\n",
    "\n",
    "fig, ax = plt.subplots()\n",
    "for i, metric in enumerate(metrics):\n",
    "    ax.bar(x - width + i * width, scores[i], width, label=metric)\n",
    "\n",
    "ax.set_xticks(x)\n",
    "ax.set_xticklabels(labels)\n",
    "ax.set_ylabel('Score')\n",
    "ax.set_title('Precision, Recall, and F1 Score of Decision Tree Classifier')\n",
    "ax.legend()\n",
    "plt.show()"
   ]
  },
  {
   "cell_type": "markdown",
   "metadata": {},
   "source": [
    "# Perfomance Comparison of three models"
   ]
  },
  {
   "cell_type": "code",
   "execution_count": 47,
   "metadata": {},
   "outputs": [
    {
     "data": {
      "image/png": "[encoded data removed]",
      "text/plain": [
       "<Figure size 800x600 with 1 Axes>"
      ]
     },
     "metadata": {},
     "output_type": "display_data"
    }
   ],
   "source": [
    "import matplotlib.pyplot as plt\n",
    "import numpy as np\n",
    "\n",
    "# Define the performance metrics\n",
    "accuracy_scores = [accuracy_gnb, accuracy_rfc, accuracy_dt]\n",
    "precision_scores = [precision_score(y_test, y_pred_gnb, average='weighted'), \n",
    "                    precision_score(y_test, y_pred_rfc, average='weighted'), \n",
    "                    precision_score(y_test, y_pred_dt, average='weighted')]\n",
    "recall_scores = [recall_score(y_test, y_pred_gnb, average='weighted'), \n",
    "                 recall_score(y_test, y_pred_rfc, average='weighted'), \n",
    "                 recall_score(y_test, y_pred_dt, average='weighted')]\n",
    "f1_scores = [f1_score(y_test, y_pred_gnb, average='weighted'), \n",
    "             f1_score(y_test, y_pred_rfc, average='weighted'), \n",
    "             f1_score(y_test, y_pred_dt, average='weighted')]\n",
    "\n",
    "# Set the x-axis labels\n",
    "models = ['Gaussian NB', 'Random Forest', 'Decision Tree']\n",
    "\n",
    "# Define the bar chart settings\n",
    "x_pos = np.arange(len(models))\n",
    "width = 0.2\n",
    "\n",
    "# Create the bar chart\n",
    "fig, ax = plt.subplots(figsize=(8,6))\n",
    "rects1 = ax.bar(x_pos - width, accuracy_scores, width, label='Accuracy')\n",
    "rects2 = ax.bar(x_pos, precision_scores, width, label='Precision')\n",
    "rects3 = ax.bar(x_pos + width, recall_scores, width, label='Recall')\n",
    "rects4 = ax.bar(x_pos + 2*width, f1_scores, width, label='F1 Score')\n",
    "\n",
    "# Add some text for labels, title and custom x-axis tick labels, etc.\n",
    "ax.set_ylabel('Score')\n",
    "ax.set_title('Model Performance Comparison')\n",
    "ax.set_xticks(x_pos + width / 2)\n",
    "ax.set_xticklabels(models)\n",
    "ax.legend(loc='lower right')\n",
    "\n",
    "# Rotate the x-axis labels if needed\n",
    "plt.xticks(rotation=45, ha='right')\n",
    "\n",
    "# Add the values above the bars\n",
    "def autolabel(rects):\n",
    "    for rect in rects:\n",
    "        height = rect.get_height()\n",
    "        ax.annotate('{:.2f}'.format(height),\n",
    "                    xy=(rect.get_x() + rect.get_width() / 2, height),\n",
    "                    xytext=(0, 3),  # 3 points vertical offset\n",
    "                    textcoords=\"offset points\",\n",
    "                    ha='center', va='bottom')\n",
    "autolabel(rects1)\n",
    "autolabel(rects2)\n",
    "autolabel(rects3)\n",
    "autolabel(rects4)\n",
    "\n",
    "plt.show()"
   ]
  },
  {
   "cell_type": "markdown",
   "metadata": {},
   "source": [
    "# Implementation of XLNet"
   ]
  },
  {
   "cell_type": "code",
   "execution_count": 48,
   "metadata": {},
   "outputs": [
    {
     "name": "stdout",
     "output_type": "stream",
     "text": [
      "Requirement already satisfied: transformers in /Users/Amisha/anaconda3/lib/python3.11/site-packages (4.32.1)\n",
      "Requirement already satisfied: filelock in /Users/Amisha/anaconda3/lib/python3.11/site-packages (from transformers) (3.9.0)\n",
      "Requirement already satisfied: huggingface-hub<1.0,>=0.15.1 in /Users/Amisha/anaconda3/lib/python3.11/site-packages (from transformers) (0.15.1)\n",
      "Requirement already satisfied: numpy>=1.17 in /Users/Amisha/anaconda3/lib/python3.11/site-packages (from transformers) (1.24.3)\n",
      "Requirement already satisfied: packaging>=20.0 in /Users/Amisha/anaconda3/lib/python3.11/site-packages (from transformers) (23.1)\n",
      "Requirement already satisfied: pyyaml>=5.1 in /Users/Amisha/anaconda3/lib/python3.11/site-packages (from transformers) (6.0)\n",
      "Requirement already satisfied: regex!=2019.12.17 in /Users/Amisha/anaconda3/lib/python3.11/site-packages (from transformers) (2022.7.9)\n",
      "Requirement already satisfied: requests in /Users/Amisha/anaconda3/lib/python3.11/site-packages (from transformers) (2.31.0)\n",
      "Requirement already satisfied: tokenizers!=0.11.3,<0.14,>=0.11.1 in /Users/Amisha/anaconda3/lib/python3.11/site-packages (from transformers) (0.13.2)\n",
      "Requirement already satisfied: safetensors>=0.3.1 in /Users/Amisha/anaconda3/lib/python3.11/site-packages (from transformers) (0.3.2)\n",
      "Requirement already satisfied: tqdm>=4.27 in /Users/Amisha/anaconda3/lib/python3.11/site-packages (from transformers) (4.65.0)\n",
      "Requirement already satisfied: fsspec in /Users/Amisha/anaconda3/lib/python3.11/site-packages (from huggingface-hub<1.0,>=0.15.1->transformers) (2023.4.0)\n",
      "Requirement already satisfied: typing-extensions>=3.7.4.3 in /Users/Amisha/anaconda3/lib/python3.11/site-packages (from huggingface-hub<1.0,>=0.15.1->transformers) (4.7.1)\n",
      "Requirement already satisfied: charset-normalizer<4,>=2 in /Users/Amisha/anaconda3/lib/python3.11/site-packages (from requests->transformers) (2.0.4)\n",
      "Requirement already satisfied: idna<4,>=2.5 in /Users/Amisha/anaconda3/lib/python3.11/site-packages (from requests->transformers) (3.4)\n",
      "Requirement already satisfied: urllib3<3,>=1.21.1 in /Users/Amisha/anaconda3/lib/python3.11/site-packages (from requests->transformers) (1.26.16)\n",
      "Requirement already satisfied: certifi>=2017.4.17 in /Users/Amisha/anaconda3/lib/python3.11/site-packages (from requests->transformers) (2023.7.22)\n"
     ]
    }
   ],
   "source": [
    "!pip install transformers\n",
    "    "
   ]
  },
  {
   "cell_type": "code",
   "execution_count": 49,
   "metadata": {},
   "outputs": [],
   "source": [
    "!pip install -q -U watermark"
   ]
  },
  {
   "cell_type": "code",
   "execution_count": 50,
   "metadata": {},
   "outputs": [
    {
     "name": "stdout",
     "output_type": "stream",
     "text": [
      "Python implementation: CPython\n",
      "Python version       : 3.11.5\n",
      "IPython version      : 8.15.0\n",
      "\n",
      "numpy       : 1.24.3\n",
      "pandas      : 2.0.3\n",
      "torch       : 2.1.1\n",
      "transformers: 4.32.1\n",
      "\n"
     ]
    }
   ],
   "source": [
    "%reload_ext watermark\n",
    "%watermark -v -p numpy,pandas,torch,transformers"
   ]
  },
  {
   "cell_type": "code",
   "execution_count": 51,
   "metadata": {},
   "outputs": [],
   "source": [
    "import transformers\n",
    "from transformers import XLNetTokenizer, XLNetModel, AdamW, get_linear_schedule_with_warmup\n",
    "import torch\n",
    "\n",
    "import numpy as np\n",
    "import pandas as pd\n",
    "import seaborn as sns\n",
    "import matplotlib.pyplot as plt\n",
    "from matplotlib import rc\n",
    "from sklearn.model_selection import train_test_split\n",
    "from sklearn.metrics import confusion_matrix, classification_report, accuracy_score\n",
    "\n",
    "from collections import defaultdict\n",
    "from textwrap import wrap\n",
    "from pylab import rcParams\n",
    "\n",
    "from torch import nn, optim\n",
    "from keras.preprocessing.sequence import pad_sequences\n",
    "from torch.utils.data import TensorDataset,RandomSampler,SequentialSampler\n",
    "from torch.utils.data import Dataset, DataLoader\n",
    "import torch.nn.functional as F"
   ]
  },
  {
   "cell_type": "code",
   "execution_count": 52,
   "metadata": {},
   "outputs": [
    {
     "data": {
      "text/plain": [
       "device(type='cpu')"
      ]
     },
     "execution_count": 52,
     "metadata": {},
     "output_type": "execute_result"
    }
   ],
   "source": [
    "%matplotlib inline\n",
    "%config InlineBackend.figure_format='retina'\n",
    "\n",
    "sns.set(style='whitegrid', palette='muted', font_scale=1.2)\n",
    "\n",
    "HAPPY_COLORS_PALETTE = [\"#01BEFE\", \"#FFDD00\", \"#FF7D00\", \"#FF006D\", \"#ADFF02\", \"#8F00FF\"]\n",
    "\n",
    "sns.set_palette(sns.color_palette(HAPPY_COLORS_PALETTE))\n",
    "\n",
    "rcParams['figure.figsize'] = 12, 8\n",
    "\n",
    "RANDOM_SEED = 42\n",
    "np.random.seed(RANDOM_SEED)\n",
    "torch.manual_seed(RANDOM_SEED)\n",
    "\n",
    "device = torch.device(\"cuda:0\" if torch.cuda.is_available() else \"cpu\")\n",
    "device"
   ]
  },
  {
   "cell_type": "code",
   "execution_count": 53,
   "metadata": {},
   "outputs": [
    {
     "data": {
      "text/html": [
       "<div>\n",
       "<style scoped>\n",
       "    .dataframe tbody tr th:only-of-type {\n",
       "        vertical-align: middle;\n",
       "    }\n",
       "\n",
       "    .dataframe tbody tr th {\n",
       "        vertical-align: top;\n",
       "    }\n",
       "\n",
       "    .dataframe thead th {\n",
       "        text-align: right;\n",
       "    }\n",
       "</style>\n",
       "<table border=\"1\" class=\"dataframe\">\n",
       "  <thead>\n",
       "    <tr style=\"text-align: right;\">\n",
       "      <th></th>\n",
       "      <th>self_text</th>\n",
       "      <th>Sentiment</th>\n",
       "    </tr>\n",
       "  </thead>\n",
       "  <tbody>\n",
       "    <tr>\n",
       "      <th>0</th>\n",
       "      <td>Actually my family has been in Israel for 600 ...</td>\n",
       "      <td>Neutral</td>\n",
       "    </tr>\n",
       "    <tr>\n",
       "      <th>1</th>\n",
       "      <td>Does anyone doubt that Iran WILL nuke Israel w...</td>\n",
       "      <td>Negative</td>\n",
       "    </tr>\n",
       "    <tr>\n",
       "      <th>2</th>\n",
       "      <td>Cool. Please stop massacring civilians.</td>\n",
       "      <td>Positive</td>\n",
       "    </tr>\n",
       "    <tr>\n",
       "      <th>3</th>\n",
       "      <td>the only ethnic cleansing that has ever take p...</td>\n",
       "      <td>Positive</td>\n",
       "    </tr>\n",
       "    <tr>\n",
       "      <th>4</th>\n",
       "      <td>I mean yeah it was fairly obvious Israel is ca...</td>\n",
       "      <td>Negative</td>\n",
       "    </tr>\n",
       "  </tbody>\n",
       "</table>\n",
       "</div>"
      ],
      "text/plain": [
       "                                           self_text Sentiment\n",
       "0  Actually my family has been in Israel for 600 ...   Neutral\n",
       "1  Does anyone doubt that Iran WILL nuke Israel w...  Negative\n",
       "2            Cool. Please stop massacring civilians.  Positive\n",
       "3  the only ethnic cleansing that has ever take p...  Positive\n",
       "4  I mean yeah it was fairly obvious Israel is ca...  Negative"
      ]
     },
     "execution_count": 53,
     "metadata": {},
     "output_type": "execute_result"
    }
   ],
   "source": [
    "data2\n",
    "data2.head()\n",
    "     "
   ]
  },
  {
   "cell_type": "code",
   "execution_count": 54,
   "metadata": {},
   "outputs": [
    {
     "data": {
      "text/html": [
       "<div>\n",
       "<style scoped>\n",
       "    .dataframe tbody tr th:only-of-type {\n",
       "        vertical-align: middle;\n",
       "    }\n",
       "\n",
       "    .dataframe tbody tr th {\n",
       "        vertical-align: top;\n",
       "    }\n",
       "\n",
       "    .dataframe thead th {\n",
       "        text-align: right;\n",
       "    }\n",
       "</style>\n",
       "<table border=\"1\" class=\"dataframe\">\n",
       "  <thead>\n",
       "    <tr style=\"text-align: right;\">\n",
       "      <th></th>\n",
       "      <th>self_text</th>\n",
       "      <th>Sentiment</th>\n",
       "    </tr>\n",
       "  </thead>\n",
       "  <tbody>\n",
       "    <tr>\n",
       "      <th>89024</th>\n",
       "      <td>I am *shocked* this shocks anyone. You will fi...</td>\n",
       "      <td>Negative</td>\n",
       "    </tr>\n",
       "    <tr>\n",
       "      <th>180308</th>\n",
       "      <td>What the fuck did i just read....?   \\n\\n\\nRes...</td>\n",
       "      <td>Negative</td>\n",
       "    </tr>\n",
       "    <tr>\n",
       "      <th>174587</th>\n",
       "      <td>I'd rather not go into the topographic demogra...</td>\n",
       "      <td>Neutral</td>\n",
       "    </tr>\n",
       "    <tr>\n",
       "      <th>120801</th>\n",
       "      <td>Hamduallah</td>\n",
       "      <td>Neutral</td>\n",
       "    </tr>\n",
       "    <tr>\n",
       "      <th>124974</th>\n",
       "      <td>Yep. [This article](https://mondoweiss.net/202...</td>\n",
       "      <td>Positive</td>\n",
       "    </tr>\n",
       "    <tr>\n",
       "      <th>221029</th>\n",
       "      <td>Get the story on the local news.</td>\n",
       "      <td>Neutral</td>\n",
       "    </tr>\n",
       "    <tr>\n",
       "      <th>201552</th>\n",
       "      <td>If your reaction to seeing a video of one side...</td>\n",
       "      <td>Negative</td>\n",
       "    </tr>\n",
       "    <tr>\n",
       "      <th>147123</th>\n",
       "      <td>[this](https://www.amnesty.org/en/latest/campa...</td>\n",
       "      <td>Neutral</td>\n",
       "    </tr>\n",
       "    <tr>\n",
       "      <th>211830</th>\n",
       "      <td>I know plenty of Muslims who don’t hate anyone...</td>\n",
       "      <td>Neutral</td>\n",
       "    </tr>\n",
       "    <tr>\n",
       "      <th>42509</th>\n",
       "      <td>So you think people were created? You do under...</td>\n",
       "      <td>Positive</td>\n",
       "    </tr>\n",
       "    <tr>\n",
       "      <th>206662</th>\n",
       "      <td>Mary Ann Williamson and Dean Phillips are alre...</td>\n",
       "      <td>Neutral</td>\n",
       "    </tr>\n",
       "    <tr>\n",
       "      <th>165856</th>\n",
       "      <td>The UN and the Red Cross are inside. They've l...</td>\n",
       "      <td>Negative</td>\n",
       "    </tr>\n",
       "    <tr>\n",
       "      <th>87631</th>\n",
       "      <td>There is pretty much nothing Israel could do t...</td>\n",
       "      <td>Positive</td>\n",
       "    </tr>\n",
       "    <tr>\n",
       "      <th>181697</th>\n",
       "      <td>The thread is literally about anti-semitism du...</td>\n",
       "      <td>Negative</td>\n",
       "    </tr>\n",
       "    <tr>\n",
       "      <th>199723</th>\n",
       "      <td>Which part of the video shows the guy blasting...</td>\n",
       "      <td>Neutral</td>\n",
       "    </tr>\n",
       "    <tr>\n",
       "      <th>212425</th>\n",
       "      <td>\"vicinity\" 🙄</td>\n",
       "      <td>Neutral</td>\n",
       "    </tr>\n",
       "    <tr>\n",
       "      <th>19295</th>\n",
       "      <td>Depends if the government ever loses power, Bi...</td>\n",
       "      <td>Neutral</td>\n",
       "    </tr>\n",
       "    <tr>\n",
       "      <th>43238</th>\n",
       "      <td>No sexual crimes confirmed and a relevant % of...</td>\n",
       "      <td>Negative</td>\n",
       "    </tr>\n",
       "    <tr>\n",
       "      <th>194193</th>\n",
       "      <td>dude [IDF killed an American journalist](https...</td>\n",
       "      <td>Negative</td>\n",
       "    </tr>\n",
       "    <tr>\n",
       "      <th>81366</th>\n",
       "      <td>The majority seem to be younger kids who were ...</td>\n",
       "      <td>Neutral</td>\n",
       "    </tr>\n",
       "  </tbody>\n",
       "</table>\n",
       "</div>"
      ],
      "text/plain": [
       "                                                self_text Sentiment\n",
       "89024   I am *shocked* this shocks anyone. You will fi...  Negative\n",
       "180308  What the fuck did i just read....?   \\n\\n\\nRes...  Negative\n",
       "174587  I'd rather not go into the topographic demogra...   Neutral\n",
       "120801                                         Hamduallah   Neutral\n",
       "124974  Yep. [This article](https://mondoweiss.net/202...  Positive\n",
       "221029                   Get the story on the local news.   Neutral\n",
       "201552  If your reaction to seeing a video of one side...  Negative\n",
       "147123  [this](https://www.amnesty.org/en/latest/campa...   Neutral\n",
       "211830  I know plenty of Muslims who don’t hate anyone...   Neutral\n",
       "42509   So you think people were created? You do under...  Positive\n",
       "206662  Mary Ann Williamson and Dean Phillips are alre...   Neutral\n",
       "165856  The UN and the Red Cross are inside. They've l...  Negative\n",
       "87631   There is pretty much nothing Israel could do t...  Positive\n",
       "181697  The thread is literally about anti-semitism du...  Negative\n",
       "199723  Which part of the video shows the guy blasting...   Neutral\n",
       "212425                                       \"vicinity\" 🙄   Neutral\n",
       "19295   Depends if the government ever loses power, Bi...   Neutral\n",
       "43238   No sexual crimes confirmed and a relevant % of...  Negative\n",
       "194193  dude [IDF killed an American journalist](https...  Negative\n",
       "81366   The majority seem to be younger kids who were ...   Neutral"
      ]
     },
     "execution_count": 54,
     "metadata": {},
     "output_type": "execute_result"
    }
   ],
   "source": [
    "from sklearn.utils import shuffle\n",
    "df = shuffle(data2)\n",
    "df.head(20)"
   ]
  },
  {
   "cell_type": "code",
   "execution_count": 55,
   "metadata": {},
   "outputs": [
    {
     "data": {
      "text/plain": [
       "24000"
      ]
     },
     "execution_count": 55,
     "metadata": {},
     "output_type": "execute_result"
    }
   ],
   "source": [
    "df = df[:24000]\n",
    "len(df)\n",
    "     "
   ]
  },
  {
   "cell_type": "code",
   "execution_count": 56,
   "metadata": {},
   "outputs": [],
   "source": [
    "import re\n",
    "def clean_text(text):\n",
    "    text = re.sub(r\"@[A-Za-z0-9]+\", ' ', text)\n",
    "    text = re.sub(r\"https?://[A-Za-z0-9./]+\", ' ', text)\n",
    "    text = re.sub(r\"[^a-zA-z.!?'0-9]\", ' ', text)\n",
    "    text = re.sub('\\t', ' ',  text)\n",
    "    text = re.sub(r\" +\", ' ', text)\n",
    "    return text\n",
    "     "
   ]
  },
  {
   "cell_type": "code",
   "execution_count": 57,
   "metadata": {},
   "outputs": [],
   "source": [
    "df['self_text'] = df['self_text'].apply(clean_text)"
   ]
  },
  {
   "cell_type": "code",
   "execution_count": 58,
   "metadata": {},
   "outputs": [
    {
     "data": {
      "image/png": "[encoded data removed]",
      "text/plain": [
       "<Figure size 800x600 with 1 Axes>"
      ]
     },
     "metadata": {
      "image/png": {
       "height": 535,
       "width": 727
      }
     },
     "output_type": "display_data"
    }
   ],
   "source": [
    "rcParams['figure.figsize'] = 8, 6\n",
    "sns.countplot(x = 'Sentiment', data = df)\n",
    "plt.xlabel('review score');\n",
    "     "
   ]
  },
  {
   "cell_type": "code",
   "execution_count": 59,
   "metadata": {},
   "outputs": [],
   "source": [
    "def sentiment2label(Sentiment):\n",
    "    if Sentiment == \"Positive\":\n",
    "        return 2\n",
    "    if Sentiment == \"Neutral\": \n",
    "        return 1\n",
    "    else :\n",
    "        return 0\n",
    "\n",
    "df['Sentiment'] = df['Sentiment'].apply(sentiment2label)"
   ]
  },
  {
   "cell_type": "code",
   "execution_count": 60,
   "metadata": {},
   "outputs": [
    {
     "data": {
      "text/plain": [
       "Sentiment\n",
       "0    11109\n",
       "2     7774\n",
       "1     5117\n",
       "Name: count, dtype: int64"
      ]
     },
     "execution_count": 60,
     "metadata": {},
     "output_type": "execute_result"
    }
   ],
   "source": [
    "df['Sentiment'].value_counts()"
   ]
  },
  {
   "cell_type": "code",
   "execution_count": 61,
   "metadata": {},
   "outputs": [],
   "source": [
    "class_names = ['negative', 'positive', 'neutral']"
   ]
  },
  {
   "cell_type": "markdown",
   "metadata": {},
   "source": [
    "# Playing with XLNetTokenizer"
   ]
  },
  {
   "cell_type": "code",
   "execution_count": 62,
   "metadata": {},
   "outputs": [],
   "source": [
    "from transformers import XLNetTokenizer, XLNetModel\n",
    "PRE_TRAINED_MODEL_NAME = 'xlnet-base-cased'\n",
    "tokenizer = XLNetTokenizer.from_pretrained(PRE_TRAINED_MODEL_NAME)"
   ]
  },
  {
   "cell_type": "markdown",
   "metadata": {},
   "source": [
    "# Checking the distribution of token lengths"
   ]
  },
  {
   "cell_type": "code",
   "execution_count": 63,
   "metadata": {},
   "outputs": [],
   "source": [
    "token_lens = []\n",
    "\n",
    "for txt in df['self_text']:\n",
    "    tokens = tokenizer.encode(txt, max_length=512, truncation=True)\n",
    "    token_lens.append(len(tokens))\n"
   ]
  },
  {
   "cell_type": "code",
   "execution_count": 64,
   "metadata": {},
   "outputs": [
    {
     "name": "stderr",
     "output_type": "stream",
     "text": [
      "/Users/Amisha/anaconda3/lib/python3.11/site-packages/seaborn/axisgrid.py:118: UserWarning: The figure layout has changed to tight\n",
      "  self._figure.tight_layout(*args, **kwargs)\n"
     ]
    },
    {
     "data": {
      "image/png": "[encoded data removed]",
      "text/plain": [
       "<Figure size 500x500 with 1 Axes>"
      ]
     },
     "metadata": {
      "image/png": {
       "height": 499,
       "width": 517
      }
     },
     "output_type": "display_data"
    }
   ],
   "source": [
    "# Set the figure size\n",
    "plt.rcParams['figure.figsize'] = (8, 6)\n",
    "\n",
    "# Create a displot\n",
    "sns.displot(token_lens)\n",
    "\n",
    "# Set x-axis limit\n",
    "plt.xlim([0, 1024])\n",
    "\n",
    "# Set labels\n",
    "plt.xlabel('Token count')\n",
    "\n",
    "# Find and display the maximum token length\n",
    "max_token_length = max(token_lens)\n",
    "plt.text(800, 50, f'Max Length: {max_token_length}', fontsize=12, verticalalignment='top')\n",
    "\n",
    "# Show the plot\n",
    "plt.show()\n"
   ]
  },
  {
   "cell_type": "code",
   "execution_count": 65,
   "metadata": {},
   "outputs": [],
   "source": [
    "MAX_LEN = 512"
   ]
  },
  {
   "cell_type": "markdown",
   "metadata": {},
   "source": [
    "# Custom Dataset class"
   ]
  },
  {
   "cell_type": "code",
   "execution_count": 66,
   "metadata": {},
   "outputs": [],
   "source": [
    "class War(Dataset):\n",
    "\n",
    "    def __init__(self, reviews, targets, tokenizer, max_len):\n",
    "        self.reviews = reviews\n",
    "        self.targets = targets\n",
    "        self.tokenizer = tokenizer\n",
    "        self.max_len = max_len\n",
    "    \n",
    "    def __len__(self):\n",
    "        return len(self.reviews)\n",
    "    \n",
    "    def __getitem__(self, item):\n",
    "        review = str(self.reviews[item])\n",
    "        target = self.targets[item]\n",
    "\n",
    "        encoding = self.tokenizer.encode_plus(\n",
    "        self_text,\n",
    "        add_special_tokens=True,\n",
    "        max_length=self.max_len,\n",
    "        return_token_type_ids=False,\n",
    "        pad_to_max_length=False,\n",
    "        return_attention_mask=True,\n",
    "        return_tensors='pt',\n",
    "        )\n",
    "\n",
    "        input_ids = pad_sequences(encoding['input_ids'], maxlen=MAX_LEN, dtype=torch.Tensor ,truncating=\"post\",padding=\"post\")\n",
    "        input_ids = input_ids.astype(dtype = 'int64')\n",
    "        input_ids = torch.tensor(input_ids) \n",
    "\n",
    "        attention_mask = pad_sequences(encoding['attention_mask'], maxlen=MAX_LEN, dtype=torch.Tensor ,truncating=\"post\",padding=\"post\")\n",
    "        attention_mask = attention_mask.astype(dtype = 'int64')\n",
    "        attention_mask = torch.tensor(attention_mask)       \n",
    "\n",
    "        return {\n",
    "        'review_text': self_text,\n",
    "        'input_ids': input_ids,\n",
    "        'attention_mask': attention_mask.flatten(),\n",
    "        'targets': torch.tensor(target, dtype=torch.long)\n",
    "        }"
   ]
  },
  {
   "cell_type": "code",
   "execution_count": 67,
   "metadata": {},
   "outputs": [],
   "source": [
    "df_train, df_test = train_test_split(df, test_size=0.5, random_state=101)\n",
    "df_val, df_test = train_test_split(df_test, test_size=0.5, random_state=101)"
   ]
  },
  {
   "cell_type": "code",
   "execution_count": 68,
   "metadata": {},
   "outputs": [
    {
     "data": {
      "text/plain": [
       "((12000, 2), (6000, 2), (6000, 2))"
      ]
     },
     "execution_count": 68,
     "metadata": {},
     "output_type": "execute_result"
    }
   ],
   "source": [
    "df_train.shape, df_val.shape, df_test.shape"
   ]
  },
  {
   "cell_type": "code",
   "execution_count": null,
   "metadata": {},
   "outputs": [],
   "source": []
  }
 ],
 "metadata": {
  "colab": {
   "provenance": []
  },
  "kernelspec": {
   "display_name": "Python 3 (ipykernel)",
   "language": "python",
   "name": "python3"
  },
  "language_info": {
   "codemirror_mode": {
    "name": "ipython",
    "version": 3
   },
   "file_extension": ".py",
   "mimetype": "text/x-python",
   "name": "python",
   "nbconvert_exporter": "python",
   "pygments_lexer": "ipython3",
   "version": "3.11.5"
  }
 },
 "nbformat": 4,
 "nbformat_minor": 1
}
